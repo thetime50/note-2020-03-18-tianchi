{
 "cells": [
  {
   "cell_type": "markdown",
   "metadata": {},
   "source": [
    "# Pandas基础\n",
    "\n",
    "[天池 link->](https://tianchi.aliyun.com/notebook-ai/detail?spm=5176.12282042.0.0.27982042kR36oa&postId=6068)\n",
    "\n",
    "参考\n",
    "作者：Little_Rookie\n",
    "链接：https://www.cnblogs.com/nxld/p/6058591.html\n",
    "來源：博客园\n",
    "\n",
    "## 1 数据结构\n",
    "pandas数据结构 \n",
    "1. Series - 一维数组 索引自动对齐??\n",
    "2. DataFrame\n",
    "\n",
    "### 1.1 创建Series\n"
   ]
  },
  {
   "cell_type": "code",
   "execution_count": 4,
   "metadata": {},
   "outputs": [
    {
     "name": "stdout",
     "output_type": "stream",
     "text": [
      "[0 1 2 3 4 5 6 7 8 9] <class 'numpy.ndarray'>\n",
      "0    0\n",
      "1    1\n",
      "2    2\n",
      "3    3\n",
      "4    4\n",
      "5    5\n",
      "6    6\n",
      "7    7\n",
      "8    8\n",
      "9    9\n",
      "dtype: int32 <class 'pandas.core.series.Series'>\n",
      "{'a': 10, 'b': 20, 'c': 30, 'd': 40, 'e': 50} <class 'dict'> a    10\n",
      "b    20\n",
      "c    30\n",
      "d    40\n",
      "e    50\n",
      "dtype: int64\n"
     ]
    }
   ],
   "source": [
    "import numpy as np, pandas as pd\n",
    "# 1. 一维数组\n",
    "arr1 = np.arange(10)\n",
    "# print(arr1,type(arr1))\n",
    "s1 = pd.Series(arr1)\n",
    "print(s1,type(s1))\n",
    "\n",
    "# 2. 字典\n",
    "dic1 = {'a':10, 'b':20, 'c':30, 'd':40, 'e':50}  #这也算Series？？\n",
    "print(dic1,type(dic1),pd.Series(dic1))\n",
    "\n",
    "# 3. 用DataFrame的一行或一列创建"
   ]
  },
  {
   "cell_type": "markdown",
   "metadata": {},
   "source": [
    "### 1.2 DataFrame的创建"
   ]
  },
  {
   "cell_type": "code",
   "execution_count": 12,
   "metadata": {},
   "outputs": [
    {
     "name": "stdout",
     "output_type": "stream",
     "text": [
      "   0   1   2\n",
      "0  0   1   2\n",
      "1  3   4   5\n",
      "2  6   7   8\n",
      "3  9  10  11 <class 'pandas.core.frame.DataFrame'>\n",
      "   a  b\n",
      "0  1  4\n",
      "1  2  5\n",
      "2  3  6\n",
      "3  4  7 <class 'pandas.core.frame.DataFrame'>  <df2\n",
      "   one  two  tree\n",
      "a    1    4     4\n",
      "b    2    5     5\n",
      "c    3    6     6\n",
      "d    4    7     7 <class 'pandas.core.frame.DataFrame'>  <df3\n",
      "   one  tree\n",
      "a    1     4\n",
      "b    2     5\n",
      "c    3     6\n",
      "d    4     7 <class 'pandas.core.frame.DataFrame'>  <df4\n",
      "a    1\n",
      "b    2\n",
      "c    3\n",
      "d    4\n",
      "Name: one, dtype: int64 <class 'pandas.core.series.Series'>  <s3\n"
     ]
    }
   ],
   "source": [
    "import numpy as np, pandas as pd\n",
    "# 1. 通过二维数组创建\n",
    "arr2 = np.array(np.arange(12)).reshape(4,3)\n",
    "# print(arr2,type(arr2))\n",
    "df1 = pd.DataFrame(arr2)\n",
    "print(df1,type(df1))\n",
    "\n",
    "# 2. 字典\n",
    "dic2 = {'a':[1,2,3,4],'b':[4,5,6,7]}\n",
    "df2 = pd.DataFrame(dic2)\n",
    "print(df2,type(df2),' <df2')\n",
    "\n",
    "dic3 = {'one':{'a':1,'b':2,'c':3,'d':4},'two':{'a':4,'b':5,'c':6,'d':7},'tree':{'a':4,'b':5,'c':6,'d':7}}\n",
    "df3 = pd.DataFrame(dic3)\n",
    "print(df3,type(df3),' <df3')\n",
    "\n",
    "# 3. 从 DataFrame 创建 DataFrame\n",
    "df4 = df3[['one','tree']]\n",
    "print(df4,type(df4),' <df4')\n",
    "s3 = df3['one']\n",
    "print(s3,type(s3),' <s3')"
   ]
  },
  {
   "cell_type": "markdown",
   "metadata": {},
   "source": [
    "## 2 数据索引\n",
    "\n",
    "### 2.1 通过索引或索引标签获取数据\n",
    "\n",
    "*如果通过索引标签获取数据的话，末端标签所对应的值是可以返回的！在一维数组中，就无法通过索引标签获取数据，这也是序列不同于一维数组的一个方面。* 这句话怎么理解"
   ]
  },
  {
   "cell_type": "code",
   "execution_count": 20,
   "metadata": {},
   "outputs": [
    {
     "name": "stdout",
     "output_type": "stream",
     "text": [
      "a    1\n",
      "b    1\n",
      "c    2\n",
      "d    3\n",
      "e    4\n",
      "f    5\n",
      "dtype: int32 Index(['a', 'b', 'c', 'd', 'e', 'f'], dtype='object')\n",
      "s4[3]   3\n",
      "s4['e']   4\n",
      "s4[[1,3,5]]   b    1\n",
      "d    3\n",
      "f    5\n",
      "dtype: int32\n",
      "s4[['a','b','e','f']]   a    1\n",
      "b    1\n",
      "e    4\n",
      "f    5\n",
      "dtype: int32\n",
      "s4[:4]   a    1\n",
      "b    1\n",
      "c    2\n",
      "d    3\n",
      "dtype: int32\n",
      "s4[:'c']   a    1\n",
      "b    1\n",
      "c    2\n",
      "dtype: int32\n",
      "s4['b':'e']   b    1\n",
      "c    2\n",
      "d    3\n",
      "e    4\n",
      "dtype: int32\n"
     ]
    }
   ],
   "source": [
    "import pandas as pd\n",
    "s4 = pd.Series(np.array([1,1,2,3,4,5]))\n",
    "s4.index=['a','b','c','d','e','f',]\n",
    "print(s4,s4.index)\n",
    "print('s4[3]  ',s4[3])\n",
    "print(\"s4['e']  \",s4['e'])\n",
    "print(\"s4[[1,3,5]]  \",s4[[1,3,5]])\n",
    "print(\"s4[['a','b','e','f']]  \",s4[['a','b','e','f']])\n",
    "print(\"s4[:4]  \",s4[:4])\n",
    "print(\"s4[:'c']  \",s4[:'c'])\n",
    "print(\"s4['b':'e']  \",s4['b':'e'])"
   ]
  },
  {
   "cell_type": "markdown",
   "metadata": {},
   "source": [
    "### 2.2 自动化对齐\n"
   ]
  },
  {
   "cell_type": "code",
   "execution_count": 34,
   "metadata": {},
   "outputs": [
    {
     "name": "stdout",
     "output_type": "stream",
     "text": [
      "a    10\n",
      "b    15\n",
      "c    20\n",
      "d    30\n",
      "e    55\n",
      "f    80\n",
      "dtype: int32 a    12\n",
      "c    11\n",
      "g    13\n",
      "b    15\n",
      "d    14\n",
      "f    16\n",
      "dtype: int32\n",
      "a    22.0\n",
      "b    30.0\n",
      "c    31.0\n",
      "d    44.0\n",
      "e     NaN\n",
      "f    96.0\n",
      "g     NaN\n",
      "dtype: float64 a    0.833333\n",
      "b    1.000000\n",
      "c    1.818182\n",
      "d    2.142857\n",
      "e         NaN\n",
      "f    5.000000\n",
      "g         NaN\n",
      "dtype: float64\n"
     ]
    }
   ],
   "source": [
    "import numpy as np, pandas as pd\n",
    "# 运算时根据索引对齐\n",
    "s5 = pd.Series(np.array([10,15,20,30,55,80]),index=['a','b','c','d','e','f'])\n",
    "s6 = pd.Series(np.array([12,11,13,15,14,16]),index=['a','c','g','b','d','f'])\n",
    "print(s5,s6)\n",
    "print(s5+s6,s5/s6)"
   ]
  },
  {
   "cell_type": "markdown",
   "metadata": {},
   "source": [
    "## 3 Pandas查询数据\n",
    "相当于R语言的subdet,通过布尔索引选区元数据的子集、指定行/列"
   ]
  },
  {
   "cell_type": "code",
   "execution_count": 1,
   "metadata": {},
   "outputs": [
    {
     "output_type": "stream",
     "name": "stdout",
     "text": "**指定行\n   Age  Height     Name Sex  Weight\n0   14    69.0   Alfred   M   112.5\n1   13    56.5    Alice   F    84.0\n2   13    65.3  Barbara   F    98.0\n3   14    62.8    Carol   F   102.5\n4   14    63.5    Henry   M   102.5  <student.head()\n    Age  Height    Name Sex  Weight\n14   16    72.0  Philip   M   150.0\n15   12    64.8  Robert   M   128.0\n16   15    67.0  Ronald   M   133.0\n17   11    57.5  Thomas   M    85.0\n18   15    66.5  Willam   M   112.0  <student.tail()\n   Age  Height     Name Sex  Weight\n0   14    69.0   Alfred   M   112.5\n2   13    65.3  Barbara   F    98.0\n4   14    63.5    Henry   M   102.5\n5   12    57.3    James   M    83.0\n7   15    62.5    Janet   F   112.5  <student.loc[[0,2,4,5,7]]\n\n\n**指定列\n      Name  Height  Weight\n0   Alfred    69.0   112.5\n1    Alice    56.5    84.0\n2  Barbara    65.3    98.0\n3    Carol    62.8   102.5\n4    Henry    63.5   102.5  <student[['Name','Height','Weight']].head()\n      Name  Height  Weight\n0   Alfred    69.0   112.5\n1    Alice    56.5    84.0\n2  Barbara    65.3    98.0\n3    Carol    62.8   102.5\n4    Henry    63.5   102.5  <student.loc[:,['Name','Height','Weight']].head()\n\n\n**条件过滤\n12岁以上的女生\n    Age  Height     Name Sex  Weight\n1    13    56.5    Alice   F    84.0\n2    13    65.3  Barbara   F    98.0\n3    14    62.8    Carol   F   102.5\n7    15    62.5    Janet   F   112.5\n11   14    64.3     Judy   F    90.0\n13   15    66.5    Marry   F   112.0  <student[(student['Sex']=='F') & (student['Age']>12)]\n12岁以上女生的姓名身高体重\n       Name  Height  Weight\n1     Alice    56.5    84.0\n2   Barbara    65.3    98.0\n3     Carol    62.8   102.5\n7     Janet    62.5   112.5\n11     Judy    64.3    90.0\n13    Marry    66.5   112.0\n"
    }
   ],
   "source": [
    "import pandas as pd\n",
    "std_dic={\n",
    "    'Age':[14,13,13,14,14,12,12,15,13,12,11,14,12,15,16,12,15,11,15],\n",
    "    'Height':[69,56.5,65.3,62.8,63.5,57.3,59.8,62.5,62.5,59,51.3,64.3,56.3,66.5,72,64.8,67,57.5,66.5],\n",
    "    'Name':['Alfred','Alice','Barbara','Carol','Henry','James','Jane','Janet','Jeffrey','John','Joyce','Judy','Louise','Marry','Philip','Robert','Ronald','Thomas','Willam'],\n",
    "    'Sex':['M','F','F','F','M','M','F','F','M','M','F','F','F','F','M','M','M','M','M'],\n",
    "    'Weight':[112.5,84,98,102.5,102.5,83,84.5,112.5,84,99.5,50.5,90,77,112,150,128,133,85,112]\n",
    "}\n",
    "student = pd.DataFrame(std_dic)\n",
    "def find1():\n",
    "    print('**指定行')\n",
    "    print(student.head(),' <student.head()')\n",
    "    print(student.tail(),' <student.tail()')\n",
    "    print(student.loc[[0,2,4,5,7]],' <student.loc[[0,2,4,5,7]]')#居然是中括号\n",
    "\n",
    "    print('\\n\\n**指定列')\n",
    "    print(student[['Name','Height','Weight']].head(),\" <student[['Name','Height','Weight']].head()\")\n",
    "    print(student.loc[:,['Name','Height','Weight']].head(),\" <student.loc[:,['Name','Height','Weight']].head()\")\n",
    "\n",
    "def find2():\n",
    "    print('\\n\\n**条件过滤')\n",
    "    print(\"12岁以上的女生\")\n",
    "    print(student[(student['Sex']=='F') & (student['Age']>12)],\" <student[(student['Sex']=='F') & (student['Age']>12)]\")\n",
    "    print('12岁以上女生的姓名身高体重')\n",
    "    print(student[(student['Sex']=='F') & (student['Age']>12)][['Name','Height','Weight']])#输出是二维数据就要加双方括号[[]]\n",
    "    \n",
    "find1()\n",
    "find2()"
   ]
  },
  {
   "cell_type": "markdown",
   "metadata": {},
   "source": [
    "## 4 利用pandas的DataFrames进行统计分析\n",
    "统计分析函数，总和/均值/最小值/最大值"
   ]
  },
  {
   "cell_type": "code",
   "execution_count": 4,
   "metadata": {},
   "outputs": [
    {
     "name": "stdout",
     "output_type": "stream",
     "text": [
      "非空元素计数 100\n",
      "min -1.4457280227908536\n",
      "max 8.182962879401638\n",
      "最小值位置 77\n",
      "最大值位置 43\n",
      "10%分数位置 0.8284511114578204\n",
      "求和 320.2106768762329\n",
      "均值 3.202106768762329\n",
      "中位数 3.2003198882445165\n",
      "众数 0   -1.445728\n",
      "1   -1.272539\n",
      "2   -1.008626\n",
      "3   -0.068813\n",
      "4    0.024576\n",
      "dtype: float64 ...\n",
      "方差 3.869429558614962\n",
      "标准差 1.967086566121319\n",
      "平均绝对偏差 1.5512943683169227\n",
      "偏度 0.004978307677648487\n",
      "峰度 -0.05053312907563878\n",
      "描述性统计指标 count    100.000000\n",
      "mean       3.202107\n",
      "std        1.967087\n",
      "min       -1.445728\n",
      "25%        1.786987\n",
      "50%        3.200320\n",
      "75%        4.625533\n",
      "max        8.182963\n",
      "dtype: float64\n",
      "count       100.000000\n",
      "min          -1.445728\n",
      "idxmin       77.000000\n",
      "quantile      3.200320\n",
      "median        3.200320\n",
      "quantile      4.625533\n",
      "mean          3.202107\n",
      "max           8.182963\n",
      "idxmax       43.000000\n",
      "mad           1.551294\n",
      "var           3.869430\n",
      "std           1.967087\n",
      "skew          0.004978\n",
      "kurt         -0.050533\n",
      "dtype: float64\n",
      "         x1        x2    x3\n",
      "0  3.632922  1.178917  94.0\n",
      "1  1.127295  7.347663  79.0\n",
      "2  4.622389  0.304496  87.0\n",
      "3  0.026839  0.407456  87.0\n",
      "4  3.553883  0.078710   8.0 \n",
      "                   x1          x2          x3\n",
      "count     100.000000  100.000000  100.000000\n",
      "min        -1.445728    0.012238    2.000000\n",
      "idxmin     77.000000   68.000000   25.000000\n",
      "quantile    3.200320    0.735140   52.000000\n",
      "median      3.200320    0.735140   52.000000\n",
      "quantile    4.625533    1.823525   75.500000\n",
      "mean        3.202107    2.474331   52.560000\n",
      "max         8.182963   50.968260   97.000000\n",
      "idxmax     43.000000    7.000000   56.000000\n",
      "mad         1.551294    2.784991   22.300000\n",
      "var         3.869430   43.276383  696.854949\n",
      "std         1.967087    6.578479   26.398010\n",
      "skew        0.004978    5.779840   -0.149909\n",
      "kurt       -0.050533   36.838201   -1.086860\n",
      "count     19\n",
      "unique     2\n",
      "top        M\n",
      "freq      10\n",
      "Name: Sex, dtype: object\n",
      "             Age     Height      Weight\n",
      "count  19.000000  19.000000   19.000000\n",
      "mean   13.315789  62.336842  100.026316\n",
      "std     1.492672   5.127075   22.773933\n",
      "min    11.000000  51.300000   50.500000\n",
      "25%    12.000000  58.250000   84.250000\n",
      "50%    13.000000  62.800000   99.500000\n",
      "75%    14.500000  65.900000  112.250000\n",
      "max    16.000000  72.000000  150.000000  <student.describe()\n",
      "          x1        x2        x3\n",
      "x1  1.000000 -0.102674  0.002371\n",
      "x2 -0.102674  1.000000  0.037799\n",
      "x3  0.002371  0.037799  1.000000  <df.corr()\n",
      "          x1        x2        x3\n",
      "x1  1.000000 -0.102674  0.002371\n",
      "x2 -0.102674  1.000000  0.037799\n",
      "x3  0.002371  0.037799  1.000000  <df.corr('pearson')\n",
      "x1    1.000000\n",
      "x2   -0.102674\n",
      "x3    0.002371\n",
      "dtype: float64\n",
      "          x1         x2          x3\n",
      "x1  3.869430  -1.328649    0.123115\n",
      "x2 -1.328649  43.276383    6.564198\n",
      "x3  0.123115   6.564198  696.854949  <head(),df.cov().head()\n"
     ]
    }
   ],
   "source": [
    "import numpy as np, pandas as pd\n",
    "d1 = pd.Series(2*np.random.normal(size=100)+3)\n",
    "d2 = np.random.f(2,4,size = 100)\n",
    "d3 = np.random.randint(1,100,size = 100)\n",
    "\n",
    "def statistics():\n",
    "    print('非空元素计数',d1.count())\n",
    "    print('min',d1.min())\n",
    "    print('max',d1.max())\n",
    "    print('最小值位置',d1.idxmin())\n",
    "    print('最大值位置',d1.idxmax())\n",
    "    print('10%分数位置',d1.quantile(0.1))\n",
    "    print('求和',d1.sum())\n",
    "    print('均值',d1.mean())\n",
    "    print('中位数',d1.median())\n",
    "    print('众数',d1.mode().head(),'...')\n",
    "    print('方差',d1.var())\n",
    "    print('标准差',d1.std())\n",
    "    print('平均绝对偏差',d1.mad())\n",
    "    print('偏度',d1.skew())\n",
    "    print('峰度',d1.kurt())\n",
    "    print('描述性统计指标',d1.describe())# 只能在Seriel 和 DataFrame上使用\n",
    "    \n",
    "def myStatistics():\n",
    "    def stats(x):\n",
    "        return pd.Series([x.count(),x.min(),x.idxmin(),x.quantile(),x.median(),x.quantile(0.75),\n",
    "                         x.mean(),x.max(),x.idxmax(),x.mad(),x.var(),x.std(),x.skew(),x.kurt()],\n",
    "                        index=['count','min','idxmin','quantile','median','quantile',\n",
    "                               'mean','max','idxmax','mad','var','std','skew','kurt'])\n",
    "    print(stats(d1))\n",
    "#     print(np.array([d1,d2,d3])[:,:4])\n",
    "    df = pd.DataFrame(np.array([d1,d2,d3]).T, columns=['x1','x2','x3'])\n",
    "    print(df.head(),'\\n',df.apply(stats)) # 将DataFramed每一列带入函数,统计每一列(Series)的数据\n",
    "    print(student['Sex'].describe()) # 统计离散数据\n",
    "    print(student.describe(),' <student.describe()')\n",
    "    print(df.corr(),' <df.corr()')# 相关系数corr 协方差矩阵cov\n",
    "    print(df.corr('pearson'),\" <df.corr('pearson')\")# 相关系数 pearson kendell spearman\n",
    "    # 只关注一个变量于其余变量的关系\n",
    "    print(df.corrwith(df['x1']))\n",
    "    # 协方差矩阵\n",
    "    print(df.cov(),' <head(),df.cov().head()')\n",
    "    \n",
    "\n",
    "\n",
    "statistics()\n",
    "myStatistics()\n",
    "\n"
   ]
  },
  {
   "cell_type": "markdown",
   "metadata": {},
   "source": [
    "## 5 利用pandas实现sql操作"
   ]
  },
  {
   "cell_type": "code",
   "execution_count": 9,
   "metadata": {},
   "outputs": [
    {
     "output_type": "stream",
     "name": "stdout",
     "text": "\n增加行\n           Name Sex  Age  Height  Weight\n0  LiuShunxiang   M   27   165.7      61\n1     Zhangshan   F   23   167.2      63\n    Age  Height          Name Sex  Weight\n0    14    69.0        Alfred   M   112.5\n1    13    56.5         Alice   F    84.0\n2    13    65.3       Barbara   F    98.0\n3    14    62.8         Carol   F   102.5\n4    14    63.5         Henry   M   102.5\n5    12    57.3         James   M    83.0\n6    12    59.8          Jane   F    84.5\n7    15    62.5         Janet   F   112.5\n8    13    62.5       Jeffrey   M    84.0\n9    12    59.0          John   M    99.5\n10   11    51.3         Joyce   F    50.5\n11   14    64.3          Judy   F    90.0\n12   12    56.3        Louise   F    77.0\n13   15    66.5         Marry   F   112.0\n14   16    72.0        Philip   M   150.0\n15   12    64.8        Robert   M   128.0\n16   15    67.0        Ronald   M   133.0\n17   11    57.5        Thomas   M    85.0\n18   15    66.5        Willam   M   112.0\n0    27   165.7  LiuShunxiang   M    61.0\n1    23   167.2     Zhangshan   F    63.0\n\n增加列\n   Age  Height          Name Sex  Weight  Score\n0   27   165.7  LiuShunxiang   M      61    NaN\n1   23   167.2     Zhangshan   F      63    NaN\n\n删除指定行\n    Age  Height     Name Sex  Weight\n2    13    65.3  Barbara   F    98.0\n4    14    63.5    Henry   M   102.5\n5    12    57.3    James   M    83.0\n7    15    62.5    Janet   F   112.5\n8    13    62.5  Jeffrey   M    84.0\n9    12    59.0     John   M    99.5\n10   11    51.3    Joyce   F    50.5\n11   14    64.3     Judy   F    90.0\n12   12    56.3   Louise   F    77.0\n13   15    66.5    Marry   F   112.0\n14   16    72.0   Philip   M   150.0\n15   12    64.8   Robert   M   128.0\n16   15    67.0   Ronald   M   133.0\n17   11    57.5   Thomas   M    85.0\n18   15    66.5   Willam   M   112.0\n\n根据布尔索引删除行\n    Age  Height    Name Sex  Weight\n7    15    62.5   Janet   F   112.5\n13   15    66.5   Marry   F   112.0\n14   16    72.0  Philip   M   150.0\n16   15    67.0  Ronald   M   133.0\n18   15    66.5  Willam   M   112.0\n\n删除指定列\n   Age     Name Sex\n0   14   Alfred   M\n1   13    Alice   F\n2   13  Barbara   F\n3   14    Carol   F\n4   14    Henry   M\n\n修改记录\n           Name  Height\n0  LiuShunxiang   173.0\n\n数据聚合\n           Age     Height      Weight\nSex                                  \nF    13.222222  60.588889   90.111111\nM    13.400000  63.910000  108.950000\n        Height      Weight\nSex                       \nF    60.588889   90.111111\nM    63.910000  108.950000  <去除列\n            Height  Weight\nSex Age                   \nF   11   51.300000   50.50\n    12   58.050000   80.75\n    13   60.900000   91.00\n    14   63.550000   96.25\n    15   64.500000  112.25\nM   11   57.500000   85.00\n    12   60.366667  103.50\n    13   62.500000   84.00\n    14   66.250000  107.50\n    15   66.750000  122.50\n    16   72.000000  150.00  <多分组\n            Height         Weight        \n              mean median    mean  median\nSex Age                                  \nF   11   51.300000  51.30   50.50   50.50\n    12   58.050000  58.05   80.75   80.75\n    13   60.900000  60.90   91.00   91.00\n    14   63.550000  63.55   96.25   96.25\n    15   64.500000  64.50  112.25  112.25\nM   11   57.500000  57.50   85.00   85.00\n    12   60.366667  59.00  103.50   99.50\n    13   62.500000  62.50   84.00   84.00\n    14   66.250000  66.25  107.50  107.50\n    15   66.750000  66.75  122.50  122.50\n    16   72.000000  72.00  150.00  150.00  <多分组\n"
    }
   ],
   "source": [
    "import pandas as pd, numpy as np\n",
    "\n",
    "print(\"\\n增加行\")\n",
    "dic = {'Name':['LiuShunxiang','Zhangshan'],'Sex':['M','F'],'Age':[27,23],'Height':[165.7,167.2],'Weight':[61,63]}\n",
    "student2 = pd.DataFrame(dic)\n",
    "print(student2)\n",
    "\n",
    "student3 = pd.concat([student,student2],sort = False)\n",
    "print(student3)\n",
    "\n",
    "print(\"\\n增加列\")\n",
    "print(pd.DataFrame(student2,columns=['Age','Height','Name','Sex','Weight','Score']))\n",
    "\n",
    "# print('删除整个DataFrame')\n",
    "# del student2\n",
    "# print(student2)\n",
    "\n",
    "print(\"\\n删除指定行\")\n",
    "print(student.drop([0,1,3,6]))\n",
    "\n",
    "print(\"\\n根据布尔索引删除行\")\n",
    "print(student[student['Age']>14])\n",
    "\n",
    "print('\\n删除指定列')\n",
    "print(student.drop(['Height','Weight'],axis=1).head())\n",
    "\n",
    "print('\\n修改记录')\n",
    "student3.loc[student3['Name'] == 'LiuShunxiang','Height']=173\n",
    "print(student3[student3['Name'] == 'LiuShunxiang'][['Name','Height']])\n",
    "\n",
    "print('\\n数据聚合')\n",
    "print(student.groupby('Sex').mean())\n",
    "print(student.drop('Age',axis=1).groupby('Sex').mean(),' <去除列')\n",
    "print(student.groupby(['Sex','Age']).mean(),' <多分组')\n",
    "print(student.groupby(['Sex','Age']).agg([np.mean,np.median]),' <多分组 多统计')\n"
   ]
  },
  {
   "cell_type": "code",
   "execution_count": 14,
   "metadata": {},
   "outputs": [
    {
     "output_type": "stream",
     "name": "stdout",
     "text": "\n排序\n0    18\n1    17\n2    10\n3    17\n4     9\n5    17\n6    14\n7    15\n8    16\n9    19\ndtype: int32\n9    19\n8    16\n7    15\n6    14\n5    17\n4     9\n3    17\n2    10\n1    17\n0    18\ndtype: int32\n9    19\n0    18\n5    17\n3    17\n1    17\n8    16\n7    15\n6    14\n2    10\n4     9\ndtype: int32\n    Age  Height     Name Sex  Weight\n10   11    51.3    Joyce   F    50.5\n17   11    57.5   Thomas   M    85.0\n12   12    56.3   Louise   F    77.0\n5    12    57.3    James   M    83.0\n9    12    59.0     John   M    99.5\n6    12    59.8     Jane   F    84.5\n15   12    64.8   Robert   M   128.0\n1    13    56.5    Alice   F    84.0\n8    13    62.5  Jeffrey   M    84.0\n2    13    65.3  Barbara   F    98.0\n3    14    62.8    Carol   F   102.5\n4    14    63.5    Henry   M   102.5\n11   14    64.3     Judy   F    90.0\n0    14    69.0   Alfred   M   112.5\n7    15    62.5    Janet   F   112.5\n13   15    66.5    Marry   F   112.0\n18   15    66.5   Willam   M   112.0\n16   15    67.0   Ronald   M   133.0\n14   16    72.0   Philip   M   150.0\n\n多表连接\n      Name  Score\n0   Alfred     88\n1    Alice     76\n2  Barbara     89\n3    Carol     67\n4    Henry     79\n5  Jeffrey     90\n6     Judy     92\n7   Philip     86\n8   Robert     73\n9   Willam     77\n"
    }
   ],
   "source": [
    "import pandas as pd, numpy as np\n",
    "\n",
    "Data = pd.Series(np.array(np.random.randint(1,20,10)))\n",
    "print('\\n排序')\n",
    "print(Data)\n",
    "print(Data.sort_index(ascending=False))\n",
    "print(Data.sort_values(ascending=False))\n",
    "\n",
    "print(student.sort_values(by = ['Age','Height']))"
   ]
  },
  {
   "cell_type": "code",
   "execution_count": 28,
   "metadata": {},
   "outputs": [
    {
     "output_type": "stream",
     "name": "stdout",
     "text": "\n多表连接\n       Name  Score\n0    Alfred     88\n1     Alice     76\n2   Barbara     89\n3     Carol     67\n4     Henry     79\n5   Jeffrey     90\n6      Judy     92\n7    Philip     86\n8    Robert     73\n9    Willam     77\n10   lalala     66\n   Age  Height     Name Sex  Weight  Score\n0   14    69.0   Alfred   M   112.5     88\n1   13    56.5    Alice   F    84.0     76\n2   13    65.3  Barbara   F    98.0     89\n3   14    62.8    Carol   F   102.5     67\n4   14    63.5    Henry   M   102.5     79\n5   13    62.5  Jeffrey   M    84.0     90\n6   14    64.3     Judy   F    90.0     92\n7   16    72.0   Philip   M   150.0     86\n8   12    64.8   Robert   M   128.0     73\n9   15    66.5   Willam   M   112.0     77\n    Age  Height     Name Sex  Weight  Score\n0    14    69.0   Alfred   M   112.5   88.0\n1    13    56.5    Alice   F    84.0   76.0\n2    13    65.3  Barbara   F    98.0   89.0\n3    14    62.8    Carol   F   102.5   67.0\n4    14    63.5    Henry   M   102.5   79.0\n5    12    57.3    James   M    83.0    NaN\n6    12    59.8     Jane   F    84.5    NaN\n7    15    62.5    Janet   F   112.5    NaN\n8    13    62.5  Jeffrey   M    84.0   90.0\n9    12    59.0     John   M    99.5    NaN\n10   11    51.3    Joyce   F    50.5    NaN\n11   14    64.3     Judy   F    90.0   92.0\n12   12    56.3   Louise   F    77.0    NaN\n13   15    66.5    Marry   F   112.0    NaN\n14   16    72.0   Philip   M   150.0   86.0\n15   12    64.8   Robert   M   128.0   73.0\n16   15    67.0   Ronald   M   133.0    NaN\n17   11    57.5   Thomas   M    85.0    NaN\n18   15    66.5   Willam   M   112.0   77.0  <左连接\n"
    }
   ],
   "source": [
    "import pandas as pd, numpy as np\n",
    "print('\\n多表连接')\n",
    "dic2 = {\n",
    "    'Name':['Alfred','Alice','Barbara','Carol','Henry','Jeffrey','Judy','Philip','Robert','Willam','lalala'],\n",
    "    'Score':[88,76,89,67,79,90,92,86,73,77,66]\n",
    "}\n",
    "score = pd.DataFrame(dic2)\n",
    "print(score)\n",
    "\n",
    "stu_score1 = pd.merge(student,score,on = 'Name')\n",
    "print(stu_score1 )\n",
    "\n",
    "stu_score2 = pd.merge(student,score,on='Name',how='left')\n",
    "print(stu_score2,' <左连接')\n",
    "att = \"\"\" \n",
    "默认为内连接 两表共有数据\n",
    "left为左连接 仅左表数据 无匹配留空\n",
    "right为右连接 仅右表数据 无匹配留空\n",
    "outer为外连接 (全连接?)\n",
    "\"\"\""
   ]
  },
  {
   "cell_type": "markdown",
   "metadata": {},
   "source": [
    "## 6 利用pandas进行缺失值处理\n",
    "- **删除法** 数据中某个变量*大部分*值都是缺失的可删除变量，缺失值*随机分布* 缺失数量不是很多也可删除这些缺失的观测。\n",
    "- **替补法** 对*连续*型变量，分布近似*正态分布*可以用均值替代缺失值；如果变量是有偏的，可以用中位数替代缺失值；如果是离散变量，用众数替代缺失值。\n",
    "- **插补法** *蒙塔卡洛模拟法*，结合线性模型/广义线性模型/决策树等方法计算出来的预测值替换缺失值"
   ]
  },
  {
   "cell_type": "code",
   "execution_count": 36,
   "metadata": {},
   "outputs": [
    {
     "output_type": "stream",
     "name": "stdout",
     "text": "9\n"
    }
   ],
   "source": [
    "s = stu_score2['Score']\n",
    "print(sum(pd.isnull(s)))"
   ]
  },
  {
   "cell_type": "code",
   "execution_count": 43,
   "metadata": {},
   "outputs": [
    {
     "output_type": "stream",
     "name": "stdout",
     "text": "x1    x2    x3\n0   1.0   1.0   2.0\n1   3.0   5.0   NaN\n2  13.0  21.0  34.0\n3  55.0   NaN  10.0\n4   NaN   NaN   NaN\n5   NaN   1.0   2.0\n     x1    x2    x3\n0   1.0   1.0   2.0\n2  13.0  21.0  34.0  <删除缺失\n     x1    x2    x3\n0   1.0   1.0   2.0\n1   3.0   5.0   0.0\n2  13.0  21.0  34.0\n3  55.0   0.0  10.0\n4   0.0   0.0   0.0\n5   0.0   1.0   2.0  <填补缺失\n\n      x1    x2    x3\n0   1.0   1.0   2.0\n1   3.0   5.0   2.0\n2  13.0  21.0  34.0\n3  55.0  21.0  10.0\n4  55.0  21.0  10.0\n5  55.0   1.0   2.0  <前向填充\n\n      x1    x2    x3\n0   1.0   1.0   2.0\n1   3.0   5.0  34.0\n2  13.0  21.0  34.0\n3  55.0   1.0  10.0\n4   NaN   1.0   2.0\n5   NaN   1.0   2.0  <后向填充\n     x1    x2    x3\n0   1.0   1.0   2.0\n1   3.0   5.0   3.0\n2  13.0  21.0  34.0\n3  55.0   2.0  10.0\n4   1.0   2.0   3.0\n5   1.0   1.0   2.0  <不同列填充不同常量\n"
    }
   ],
   "source": [
    "import numpy as np, pandas as pd\n",
    "df = pd.DataFrame([[1,1,2],[3,5,np.nan],[13,21,34],[55,np.nan,10],[np.nan,np.nan,np.nan],[np.nan,1,2]],columns=['x1','x2','x3'])\n",
    "print(df)\n",
    "print(df.dropna(),' <删除缺失')\n",
    "print(df.fillna(0),' <填补缺失')\n",
    "\n",
    "print('\\n',df.fillna(method='ffill'),' <前向填充')\n",
    "print('\\n',df.fillna(method='bfill'),' <后向填充')\n",
    "\n",
    "print(df.fillna({'x1':1,'x2':2,'x3':3}),' <不同列填充不同常量')"
   ]
  },
  {
   "cell_type": "markdown",
   "metadata": {},
   "source": [
    "## 7 利用pandas实现Excel的数据透视表功能\n",
    "\n",
    "pivot_table()函数\n",
    "\n",
    "<pre>\n",
    "pivot_table(data,values=None,\n",
    "            index=None,\n",
    "            columns=None,\n",
    "            aggfunc='mean',\n",
    "            fill_value=None,\n",
    "            margins=False,\n",
    "            dropna=True,\n",
    "            margins_name='All')\n",
    "</pre>\n",
    "\n",
    "- data：需要进行数据透视表操作的数据框\n",
    "- values：指定需要聚合的字段\n",
    "- index：指定某些原始变量作为行索引\n",
    "- columns：指定哪些离散的分组变量\n",
    "- aggfunc：指定相应的聚合函数\n",
    "- fill_value：使用一个常数替代缺失值，默认不替换\n",
    "- margins：是否进行行或列的汇总，默认不汇总\n",
    "- dropna：默认所有观测为缺失的列\n",
    "- margins_name：默认行汇总或列汇总的名称为'All'\n",
    "\n",
    "有关更多数据透视表的操作，可参考《Pandas透视表（pivot_table）详解》一文，链接地址：http://python.jobbole.com/81212/"
   ]
  },
  {
   "cell_type": "code",
   "execution_count": 59,
   "metadata": {},
   "outputs": [
    {
     "output_type": "stream",
     "name": "stdout",
     "text": "Sex             F      M\nHeight  60.588889  63.91  <\n\nSex             F       M\nHeight  60.588889   63.91\nWeight  90.111111  108.95  <多变量统计\n\n        Sex  Age\nHeight  F    11      51.300000\n             12      58.050000\n             13      60.900000\n             14      63.550000\n             15      64.500000\n        M    11      57.500000\n             12      60.366667\n             13      62.500000\n             14      66.250000\n             15      66.750000\n             16      72.000000\nWeight  F    11      50.500000\n             12      80.750000\n             13      91.000000\n             14      96.250000\n             15     112.250000\n        M    11      85.000000\n             12     103.500000\n             13      84.000000\n             14     107.500000\n             15     122.500000\n             16     150.000000\ndtype: float64  <分组 多变量统计\n\nAge           11          12    13      14      15     16\n       Sex                                               \nHeight F    51.3   58.050000  60.9   63.55   64.50    NaN\n       M    57.5   60.366667  62.5   66.25   66.75   72.0\nWeight F    50.5   80.750000  91.0   96.25  112.25    NaN\n       M    85.0  103.500000  84.0  107.50  122.50  150.0  <非堆叠操作(格式)\n\n             mean         median                std           \nSex             F       M      F       M          F          M\nHeight  60.588889   63.91   62.5   64.15   5.018328   4.937937\nWeight  90.111111  108.95   90.0  107.25  19.383914  22.727186  <多聚合函数\n\n"
    }
   ],
   "source": [
    "Table1 = pd.pivot_table(student, values= ['Height'], columns=['Sex'])\n",
    "print(Table1,' <\\n')\n",
    "Table2 = pd.pivot_table(student, values=['Height','Weight'], columns=['Sex'])\n",
    "print(Table2,' <多变量统计\\n')\n",
    "Table3 = pd.pivot_table(student, values=['Height','Weight'], columns=['Sex','Age'])\n",
    "print(Table3,' <分组 多变量统计\\n')\n",
    "Table4 = pd.pivot_table(student, values=['Height','Weight'], columns=['Sex','Age']).unstack()\n",
    "print(Table4,' <非堆叠操作(格式)\\n')\n",
    "Table4 = pd.pivot_table(student, values=['Height','Weight'], columns=['Sex'],aggfunc=[np.mean,np.median,np.std])\n",
    "print(Table4,' <多聚合函数\\n')"
   ]
  },
  {
   "cell_type": "markdown",
   "metadata": {},
   "source": [
    "## 8 多层索引的使用\n"
   ]
  },
  {
   "cell_type": "code",
   "execution_count": 80,
   "metadata": {},
   "outputs": [
    {
     "output_type": "stream",
     "name": "stdout",
     "text": "a  1    1\n   2    2\n   3    3\nb  1    4\n   2    5\nc  3    6\n   1    7\nd  2    8\n   3    9\ndtype: int32\nMultiIndex(levels=[['a', 'b', 'c', 'd'], [1, 2, 3]],\n           labels=[[0, 0, 0, 1, 1, 2, 2, 3, 3], [0, 1, 2, 0, 1, 2, 0, 1, 2]])\n1    1\n2    2\n3    3\ndtype: int32  <s['a']\n1  <s['a',1]\n1    1\n3    3\ndtype: int32  <s['a'][[1,3]]\na  1    1\n   2    2\n   3    3\nc  3    6\n   1    7\ndtype: int32  <s[['a','c']]\nb  1    4\n   2    5\nd  2    8\n   3    9\ndtype: int32  <s[['b','d']]\na  2    2\nb  1    4\ndtype: int32  <s[[1,3]]\n"
    }
   ],
   "source": [
    "import pandas as pd, numpy as np\n",
    "s = pd.Series(np.arange(1,10), index=[['a','a','a','b','b','c','c','d','d'],[1,2,3,1,2,3,1,2,3]])# 会合并相同的索引\n",
    "print(s)\n",
    "print(s.index)\n",
    "print(s['a'],\" <s['a']\")\n",
    "print(s['a',1],\" <s['a',1]\")\n",
    "print(s['a'][[1,3]],\" <s['a'][[1,3]]\")\n",
    "\n",
    "print(s[['a','c']],\" <s[['a','c']]\")\n",
    "print(s[['b','d']],\" <s[['b','d']]\")\n",
    "print(s[[1,3]],\" <s[[1,3]]\")# 行索引 都是行索引"
   ]
  },
  {
   "cell_type": "code",
   "execution_count": 98,
   "metadata": {},
   "outputs": [
    {
     "output_type": "execute_result",
     "data": {
      "text/plain": "           模拟考                           正式考                         \n            数学   语文   英语   物理   化学   生物   数学   语文   英语   物理   化学   生物\n期中 雷军 测试一    8    2   70  114  139   99   58  110   65   47   63    7\n      测试二   15   32   66   42  145   53   60   19  109  135   61   51\n   李斌 测试一   10  149  141   10   62   53   87   61  113   60   16  128\n      测试二    5  112   90   30   72   93    4   73  133  111   19   72\n期末 雷军 测试一   25   12  141   71   55  140  109  138   23   20   94   52\n      测试二   96   80   32   16   52   59    9   79    6   26  102   23\n   李斌 测试一   83   42   93  124   38  105   79  134  131   57  129  116\n      测试二  111  147   44   76   19   28   75  147  143   15  122  123",
      "text/html": "<div>\n<style scoped>\n    .dataframe tbody tr th:only-of-type {\n        vertical-align: middle;\n    }\n\n    .dataframe tbody tr th {\n        vertical-align: top;\n    }\n\n    .dataframe thead tr th {\n        text-align: left;\n    }\n</style>\n<table border=\"1\" class=\"dataframe\">\n  <thead>\n    <tr>\n      <th></th>\n      <th></th>\n      <th></th>\n      <th colspan=\"6\" halign=\"left\">模拟考</th>\n      <th colspan=\"6\" halign=\"left\">正式考</th>\n    </tr>\n    <tr>\n      <th></th>\n      <th></th>\n      <th></th>\n      <th>数学</th>\n      <th>语文</th>\n      <th>英语</th>\n      <th>物理</th>\n      <th>化学</th>\n      <th>生物</th>\n      <th>数学</th>\n      <th>语文</th>\n      <th>英语</th>\n      <th>物理</th>\n      <th>化学</th>\n      <th>生物</th>\n    </tr>\n  </thead>\n  <tbody>\n    <tr>\n      <th rowspan=\"4\" valign=\"top\">期中</th>\n      <th rowspan=\"2\" valign=\"top\">雷军</th>\n      <th>测试一</th>\n      <td>8</td>\n      <td>2</td>\n      <td>70</td>\n      <td>114</td>\n      <td>139</td>\n      <td>99</td>\n      <td>58</td>\n      <td>110</td>\n      <td>65</td>\n      <td>47</td>\n      <td>63</td>\n      <td>7</td>\n    </tr>\n    <tr>\n      <th>测试二</th>\n      <td>15</td>\n      <td>32</td>\n      <td>66</td>\n      <td>42</td>\n      <td>145</td>\n      <td>53</td>\n      <td>60</td>\n      <td>19</td>\n      <td>109</td>\n      <td>135</td>\n      <td>61</td>\n      <td>51</td>\n    </tr>\n    <tr>\n      <th rowspan=\"2\" valign=\"top\">李斌</th>\n      <th>测试一</th>\n      <td>10</td>\n      <td>149</td>\n      <td>141</td>\n      <td>10</td>\n      <td>62</td>\n      <td>53</td>\n      <td>87</td>\n      <td>61</td>\n      <td>113</td>\n      <td>60</td>\n      <td>16</td>\n      <td>128</td>\n    </tr>\n    <tr>\n      <th>测试二</th>\n      <td>5</td>\n      <td>112</td>\n      <td>90</td>\n      <td>30</td>\n      <td>72</td>\n      <td>93</td>\n      <td>4</td>\n      <td>73</td>\n      <td>133</td>\n      <td>111</td>\n      <td>19</td>\n      <td>72</td>\n    </tr>\n    <tr>\n      <th rowspan=\"4\" valign=\"top\">期末</th>\n      <th rowspan=\"2\" valign=\"top\">雷军</th>\n      <th>测试一</th>\n      <td>25</td>\n      <td>12</td>\n      <td>141</td>\n      <td>71</td>\n      <td>55</td>\n      <td>140</td>\n      <td>109</td>\n      <td>138</td>\n      <td>23</td>\n      <td>20</td>\n      <td>94</td>\n      <td>52</td>\n    </tr>\n    <tr>\n      <th>测试二</th>\n      <td>96</td>\n      <td>80</td>\n      <td>32</td>\n      <td>16</td>\n      <td>52</td>\n      <td>59</td>\n      <td>9</td>\n      <td>79</td>\n      <td>6</td>\n      <td>26</td>\n      <td>102</td>\n      <td>23</td>\n    </tr>\n    <tr>\n      <th rowspan=\"2\" valign=\"top\">李斌</th>\n      <th>测试一</th>\n      <td>83</td>\n      <td>42</td>\n      <td>93</td>\n      <td>124</td>\n      <td>38</td>\n      <td>105</td>\n      <td>79</td>\n      <td>134</td>\n      <td>131</td>\n      <td>57</td>\n      <td>129</td>\n      <td>116</td>\n    </tr>\n    <tr>\n      <th>测试二</th>\n      <td>111</td>\n      <td>147</td>\n      <td>44</td>\n      <td>76</td>\n      <td>19</td>\n      <td>28</td>\n      <td>75</td>\n      <td>147</td>\n      <td>143</td>\n      <td>15</td>\n      <td>122</td>\n      <td>123</td>\n    </tr>\n  </tbody>\n</table>\n</div>"
     },
     "metadata": {},
     "execution_count": 98
    }
   ],
   "source": [
    "import pandas as pd, numpy as np\n",
    "data = pd.DataFrame(np.random.randint(0,150,size=(8,12)),\n",
    "                    columns = pd.MultiIndex.from_product([\n",
    "                        ['模拟考','正式考'],\n",
    "                        ['数学','语文','英语','物理','化学','生物']\n",
    "                    ]),\n",
    "                    index = pd.MultiIndex.from_product([\n",
    "                        ['期中','期末'],\n",
    "                        ['雷军','李斌'],\n",
    "                        ['测试一','测试二']\n",
    "                    ])\n",
    "                )\n",
    "data\n",
    "# print(data)"
   ]
  },
  {
   "cell_type": "code",
   "execution_count": 97,
   "metadata": {},
   "outputs": [
    {
     "output_type": "execute_result",
     "data": {
      "text/plain": "            语文   数学\n期中 雷军 测试一   71   19\n      测试二   10   70\n   李斌 测试一  111  120\n      测试二   67  129\n期末 雷军 测试一  142   61\n      测试二  108  108\n   李斌 测试一   17  105\n      测试二   15   29",
      "text/html": "<div>\n<style scoped>\n    .dataframe tbody tr th:only-of-type {\n        vertical-align: middle;\n    }\n\n    .dataframe tbody tr th {\n        vertical-align: top;\n    }\n\n    .dataframe thead th {\n        text-align: right;\n    }\n</style>\n<table border=\"1\" class=\"dataframe\">\n  <thead>\n    <tr style=\"text-align: right;\">\n      <th></th>\n      <th></th>\n      <th></th>\n      <th>语文</th>\n      <th>数学</th>\n    </tr>\n  </thead>\n  <tbody>\n    <tr>\n      <th rowspan=\"4\" valign=\"top\">期中</th>\n      <th rowspan=\"2\" valign=\"top\">雷军</th>\n      <th>测试一</th>\n      <td>71</td>\n      <td>19</td>\n    </tr>\n    <tr>\n      <th>测试二</th>\n      <td>10</td>\n      <td>70</td>\n    </tr>\n    <tr>\n      <th rowspan=\"2\" valign=\"top\">李斌</th>\n      <th>测试一</th>\n      <td>111</td>\n      <td>120</td>\n    </tr>\n    <tr>\n      <th>测试二</th>\n      <td>67</td>\n      <td>129</td>\n    </tr>\n    <tr>\n      <th rowspan=\"4\" valign=\"top\">期末</th>\n      <th rowspan=\"2\" valign=\"top\">雷军</th>\n      <th>测试一</th>\n      <td>142</td>\n      <td>61</td>\n    </tr>\n    <tr>\n      <th>测试二</th>\n      <td>108</td>\n      <td>108</td>\n    </tr>\n    <tr>\n      <th rowspan=\"2\" valign=\"top\">李斌</th>\n      <th>测试一</th>\n      <td>17</td>\n      <td>105</td>\n    </tr>\n    <tr>\n      <th>测试二</th>\n      <td>15</td>\n      <td>29</td>\n    </tr>\n  </tbody>\n</table>\n</div>"
     },
     "metadata": {},
     "execution_count": 97
    }
   ],
   "source": [
    "data['模拟考'][['语文','数学']]\n",
    "# print(data['模拟考'][['语文','数学']])"
   ]
  },
  {
   "cell_type": "code",
   "execution_count": 102,
   "metadata": {},
   "outputs": [
    {
     "output_type": "stream",
     "name": "stdout",
     "text": "模拟考  数学      8\n     语文      2\n     英语     70\n     物理    114\n     化学    139\n     生物     99\n正式考  数学     58\n     语文    110\n     英语     65\n     物理     47\n     化学     63\n     生物      7\nName: (期中, 雷军, 测试一), dtype: int32  <data.loc['期中','雷军','测试一']\n\n模拟考  数学      8\n     语文      2\n     英语     70\n     物理    114\n     化学    139\n     生物     99\n正式考  数学     58\n     语文    110\n     英语     65\n     物理     47\n     化学     63\n     生物      7\nName: (期中, 雷军, 测试一), dtype: int32  <data.iloc[0]\n\n            数学   语文   英语   物理   化学   生物\n期中 雷军 测试一   58  110   65   47   63    7\n      测试二   60   19  109  135   61   51\n   李斌 测试一   87   61  113   60   16  128\n      测试二    4   73  133  111   19   72\n期末 雷军 测试一  109  138   23   20   94   52\n      测试二    9   79    6   26  102   23\n   李斌 测试一   79  134  131   57  129  116\n      测试二   75  147  143   15  122  123  <data['正式考']\n"
    }
   ],
   "source": [
    "print(data.loc['期中','雷军','测试一'],\" <data.loc['期中','雷军','测试一']\\n\")\n",
    "print(data.iloc[0],\" <data.iloc[0]\\n\")# 即第一行数据 包含所有的嵌套单元格\n",
    "print(data['正式考'],\" <data['正式考']\")# 列索引"
   ]
  },
  {
   "cell_type": "markdown",
   "metadata": {},
   "source": [
    "其他操作参考 pandas官方文档：http://pandas.pydata.org/pandas-docs/version/0.17.0/whatsnew.html。"
   ]
  }
 ],
 "metadata": {
  "kernelspec": {
   "display_name": "Python 3",
   "language": "python",
   "name": "python3"
  },
  "language_info": {
   "codemirror_mode": {
    "name": "ipython",
    "version": 3
   },
   "file_extension": ".py",
   "mimetype": "text/x-python",
   "name": "python",
   "nbconvert_exporter": "python",
   "pygments_lexer": "ipython3",
   "version": "3.7.0-final"
  }
 },
 "nbformat": 4,
 "nbformat_minor": 2
}
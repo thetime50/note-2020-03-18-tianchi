{
 "cells": [
  {
   "cell_type": "markdown",
   "metadata": {},
   "source": [
    "# Pandas基础\n",
    "\n",
    "[天池 link->](https://tianchi.aliyun.com/notebook-ai/detail?spm=5176.12282042.0.0.27982042kR36oa&postId=6068)\n",
    "\n",
    "参考\n",
    "作者：Little_Rookie\n",
    "链接：https://www.cnblogs.com/nxld/p/6058591.html\n",
    "來源：博客园\n",
    "\n",
    "## 1 数据结构\n",
    "pandas数据结构 \n",
    "1. Series - 一维数组 索引自动对齐??\n",
    "2. DataFrame\n",
    "\n",
    "### 1.1 创建Series\n"
   ]
  },
  {
   "cell_type": "code",
   "execution_count": 4,
   "metadata": {},
   "outputs": [
    {
     "name": "stdout",
     "output_type": "stream",
     "text": [
      "[0 1 2 3 4 5 6 7 8 9] <class 'numpy.ndarray'>\n",
      "0    0\n",
      "1    1\n",
      "2    2\n",
      "3    3\n",
      "4    4\n",
      "5    5\n",
      "6    6\n",
      "7    7\n",
      "8    8\n",
      "9    9\n",
      "dtype: int32 <class 'pandas.core.series.Series'>\n",
      "{'a': 10, 'b': 20, 'c': 30, 'd': 40, 'e': 50} <class 'dict'> a    10\n",
      "b    20\n",
      "c    30\n",
      "d    40\n",
      "e    50\n",
      "dtype: int64\n"
     ]
    }
   ],
   "source": [
    "import numpy as np, pandas as pd\n",
    "# 1. 一维数组\n",
    "arr1 = np.arange(10)\n",
    "# print(arr1,type(arr1))\n",
    "s1 = pd.Series(arr1)\n",
    "print(s1,type(s1))\n",
    "\n",
    "# 2. 字典\n",
    "dic1 = {'a':10, 'b':20, 'c':30, 'd':40, 'e':50}  #这也算Series？？\n",
    "print(dic1,type(dic1),pd.Series(dic1))\n",
    "\n",
    "# 3. 用DataFrame的一行或一列创建"
   ]
  },
  {
   "cell_type": "markdown",
   "metadata": {},
   "source": [
    "### 1.2 Data的创建"
   ]
  },
  {
   "cell_type": "code",
   "execution_count": 12,
   "metadata": {},
   "outputs": [
    {
     "name": "stdout",
     "output_type": "stream",
     "text": [
      "   0   1   2\n",
      "0  0   1   2\n",
      "1  3   4   5\n",
      "2  6   7   8\n",
      "3  9  10  11 <class 'pandas.core.frame.DataFrame'>\n",
      "   a  b\n",
      "0  1  4\n",
      "1  2  5\n",
      "2  3  6\n",
      "3  4  7 <class 'pandas.core.frame.DataFrame'>  <df2\n",
      "   one  two  tree\n",
      "a    1    4     4\n",
      "b    2    5     5\n",
      "c    3    6     6\n",
      "d    4    7     7 <class 'pandas.core.frame.DataFrame'>  <df3\n",
      "   one  tree\n",
      "a    1     4\n",
      "b    2     5\n",
      "c    3     6\n",
      "d    4     7 <class 'pandas.core.frame.DataFrame'>  <df4\n",
      "a    1\n",
      "b    2\n",
      "c    3\n",
      "d    4\n",
      "Name: one, dtype: int64 <class 'pandas.core.series.Series'>  <s3\n"
     ]
    }
   ],
   "source": [
    "import numpy as np, pandas as pd\n",
    "# 1. 通过二维数组创建\n",
    "arr2 = np.array(np.arange(12)).reshape(4,3)\n",
    "# print(arr2,type(arr2))\n",
    "df1 = pd.DataFrame(arr2)\n",
    "print(df1,type(df1))\n",
    "\n",
    "# 2. 字典\n",
    "dic2 = {'a':[1,2,3,4],'b':[4,5,6,7]}\n",
    "df2 = pd.DataFrame(dic2)\n",
    "print(df2,type(df2),' <df2')\n",
    "\n",
    "dic3 = {'one':{'a':1,'b':2,'c':3,'d':4},'two':{'a':4,'b':5,'c':6,'d':7},'tree':{'a':4,'b':5,'c':6,'d':7}}\n",
    "df3 = pd.DataFrame(dic3)\n",
    "print(df3,type(df3),' <df3')\n",
    "\n",
    "# 3. 从 DataFrame 创建 DataFrame\n",
    "df4 = df3[['one','tree']]\n",
    "print(df4,type(df4),' <df4')\n",
    "s3 = df3['one']\n",
    "print(s3,type(s3),' <s3')"
   ]
  },
  {
   "cell_type": "markdown",
   "metadata": {},
   "source": [
    "## 2 数据索引\n",
    "\n",
    "### 2.1 通过索引或索引标签获取数据\n",
    "\n",
    "*如果通过索引标签获取数据的话，末端标签所对应的值是可以返回的！在一维数组中，就无法通过索引标签获取数据，这也是序列不同于一维数组的一个方面。* 这句话怎么理解"
   ]
  },
  {
   "cell_type": "code",
   "execution_count": 20,
   "metadata": {},
   "outputs": [
    {
     "name": "stdout",
     "output_type": "stream",
     "text": [
      "a    1\n",
      "b    1\n",
      "c    2\n",
      "d    3\n",
      "e    4\n",
      "f    5\n",
      "dtype: int32 Index(['a', 'b', 'c', 'd', 'e', 'f'], dtype='object')\n",
      "s4[3]   3\n",
      "s4['e']   4\n",
      "s4[[1,3,5]]   b    1\n",
      "d    3\n",
      "f    5\n",
      "dtype: int32\n",
      "s4[['a','b','e','f']]   a    1\n",
      "b    1\n",
      "e    4\n",
      "f    5\n",
      "dtype: int32\n",
      "s4[:4]   a    1\n",
      "b    1\n",
      "c    2\n",
      "d    3\n",
      "dtype: int32\n",
      "s4[:'c']   a    1\n",
      "b    1\n",
      "c    2\n",
      "dtype: int32\n",
      "s4['b':'e']   b    1\n",
      "c    2\n",
      "d    3\n",
      "e    4\n",
      "dtype: int32\n"
     ]
    }
   ],
   "source": [
    "import pandas as pd\n",
    "s4 = pd.Series(np.array([1,1,2,3,4,5]))\n",
    "s4.index=['a','b','c','d','e','f',]\n",
    "print(s4,s4.index)\n",
    "print('s4[3]  ',s4[3])\n",
    "print(\"s4['e']  \",s4['e'])\n",
    "print(\"s4[[1,3,5]]  \",s4[[1,3,5]])\n",
    "print(\"s4[['a','b','e','f']]  \",s4[['a','b','e','f']])\n",
    "print(\"s4[:4]  \",s4[:4])\n",
    "print(\"s4[:'c']  \",s4[:'c'])\n",
    "print(\"s4['b':'e']  \",s4['b':'e'])"
   ]
  },
  {
   "cell_type": "markdown",
   "metadata": {},
   "source": [
    "### 2.2 自动化对齐\n"
   ]
  },
  {
   "cell_type": "code",
   "execution_count": 34,
   "metadata": {},
   "outputs": [
    {
     "name": "stdout",
     "output_type": "stream",
     "text": [
      "a    10\n",
      "b    15\n",
      "c    20\n",
      "d    30\n",
      "e    55\n",
      "f    80\n",
      "dtype: int32 a    12\n",
      "c    11\n",
      "g    13\n",
      "b    15\n",
      "d    14\n",
      "f    16\n",
      "dtype: int32\n",
      "a    22.0\n",
      "b    30.0\n",
      "c    31.0\n",
      "d    44.0\n",
      "e     NaN\n",
      "f    96.0\n",
      "g     NaN\n",
      "dtype: float64 a    0.833333\n",
      "b    1.000000\n",
      "c    1.818182\n",
      "d    2.142857\n",
      "e         NaN\n",
      "f    5.000000\n",
      "g         NaN\n",
      "dtype: float64\n"
     ]
    }
   ],
   "source": [
    "import numpy as np, pandas as pd\n",
    "# 运算时根据索引对齐\n",
    "s5 = pd.Series(np.array([10,15,20,30,55,80]),index=['a','b','c','d','e','f'])\n",
    "s6 = pd.Series(np.array([12,11,13,15,14,16]),index=['a','c','g','b','d','f'])\n",
    "print(s5,s6)\n",
    "print(s5+s6,s5/s6)"
   ]
  },
  {
   "cell_type": "markdown",
   "metadata": {},
   "source": [
    "## 3 Pandas查询数据"
   ]
  }
 ],
 "metadata": {
  "kernelspec": {
   "display_name": "Python 3",
   "language": "python",
   "name": "python3"
  },
  "language_info": {
   "codemirror_mode": {
    "name": "ipython",
    "version": 3
   },
   "file_extension": ".py",
   "mimetype": "text/x-python",
   "name": "python",
   "nbconvert_exporter": "python",
   "pygments_lexer": "ipython3",
   "version": "3.6.7"
  }
 },
 "nbformat": 4,
 "nbformat_minor": 2
}

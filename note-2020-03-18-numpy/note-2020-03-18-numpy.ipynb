{
 "cells": [
  {
   "cell_type": "markdown",
   "metadata": {},
   "source": [
    "# Numpy基础：数组和矢量计算\n",
    "\n",
    "[天池 link->](https://tianchi.aliyun.com/notebook-ai/detail?spm=5176.12282042.0.0.1b9d2042KqU5ZQ&postId=5977)\n",
    "\n",
    "参考  \n",
    "作者：SeanCheney  \n",
    "链接：https://www.jianshu.com/p/a380222a3292  \n",
    "來源：简书  \n",
    "\n",
    "《利用Python进行数据分析·第2版》 第4章  \n",
    "[apachecn github](https://github.com/apachecn/pyda-2e-zh)"
   ]
  },
  {
   "cell_type": "markdown",
   "metadata": {},
   "source": [
    "## 说明\n",
    "因为近期一直无法连接上天池的notebook环境在线运行项目，因此该笔记已经迁移至github,天池的项目将不再更新  \n",
    "请访问项目 https://github.com/thetime50/note-2020-03-18-tianchi  \n",
    "binder在线运行:[![Binder](#)](https://mybinder.org/v2/gh/thetime50/note-2020-03-18-tianchi/master)"
   ]
  },
  {
   "cell_type": "code",
   "execution_count": 52,
   "metadata": {},
   "outputs": [
    {
     "name": "stdout",
     "output_type": "stream",
     "text": [
      "CPU times: user 6.15 ms, sys: 19.6 ms, total: 25.8 ms\n",
      "Wall time: 25.7 ms\n",
      "CPU times: user 521 ms, sys: 168 ms, total: 689 ms\n",
      "Wall time: 689 ms\n"
     ]
    }
   ],
   "source": [
    "import numpy as np\n",
    "\n",
    "# 高效\n",
    "nparr=np.arange(1000000)\n",
    "arr=list(range(1000000))\n",
    "\n",
    "%time for _ in range(10): nparr2 = nparr * 2\n",
    "%time for _ in range(10): arr2 = [x*2 for x in arr]\n"
   ]
  },
  {
   "cell_type": "code",
   "execution_count": null,
   "metadata": {},
   "outputs": [],
   "source": [
    "!conda env export > environment.yml"
   ]
  },
  {
   "cell_type": "markdown",
   "metadata": {},
   "source": [
    "%time是ipython的语法 测量一行代码执行的时间  \n",
    "Jupyter Notebook当然是可以用的，pycharm里的python环境也是jupyter Notebook的）\n",
    "\n",
    "%timeit可以测量一行代码多次执行的时间  \n",
    "[%time](https://blog.csdn.net/qq_38992914/article/details/101368674)"
   ]
  },
  {
   "cell_type": "markdown",
   "metadata": {},
   "source": [
    "## NumPy的ndarray：一种多维数组对象\n",
    "\n",
    "是一个多维数组对象，大数据容器。能够让数组像标量一样进行运算\n",
    "\n",
    "https://numpy.org/doc/1.18/reference/random/legacy.html#simple-random-data"
   ]
  },
  {
   "cell_type": "code",
   "execution_count": 53,
   "metadata": {},
   "outputs": [
    {
     "name": "stdout",
     "output_type": "stream",
     "text": [
      "[[ 1.90889544  1.05001267 -1.3812229 ]\n",
      " [ 0.29867025 -1.45567922  0.34829706]]\n",
      "[[ 19.0889544   10.50012674 -13.81222904]\n",
      " [  2.98670255 -14.55679217   3.48297058]]\n",
      "[[ 3.81779088  2.10002535 -2.76244581]\n",
      " [ 0.59734051 -2.91135843  0.69659412]]\n",
      "(2, 3) float64 2\n"
     ]
    }
   ],
   "source": [
    "import numpy as np\n",
    "\n",
    "data = np.random.randn(2,3)\n",
    "print(data)\n",
    "print(data*10)\n",
    "print(data + data)\n",
    "print(\n",
    "    data.shape, #形状\n",
    "    data.dtype, #数据类型\n",
    "    data.ndim, #维度\n",
    ")"
   ]
  },
  {
   "cell_type": "markdown",
   "metadata": {},
   "source": [
    "### 1.1.1 创建ndarray"
   ]
  },
  {
   "cell_type": "code",
   "execution_count": 54,
   "metadata": {},
   "outputs": [
    {
     "name": "stdout",
     "output_type": "stream",
     "text": [
      "[[1 2 3 4]\n",
      " [1 2 3 4]]\n",
      "[[[0 0 0 0 0]\n",
      "  [0 0 0 0 0]]\n",
      "\n",
      " [[0 0 0 0 0]\n",
      "  [0 0 0 0 0]]\n",
      "\n",
      " [[0 0 0 0 0]\n",
      "  [0 0 0 0 0]]]\n",
      "[[1 1 1]\n",
      " [1 1 1]]\n",
      "[[1 1 1]\n",
      " [1 1 1]]\n",
      "[ 0  1  2  3  4  5  6  7  8  9 10 11 12 13 14 15]\n"
     ]
    }
   ],
   "source": [
    "import numpy as np\n",
    "# 1 从原生数组创建\n",
    "nparr=np.array([[1,2,3,4],[1,2,3,4]]) #如果没有对齐的话会被存为对象\n",
    "print(nparr)\n",
    "# 2 创建并初始化\n",
    "print(np.zeros((3,2,5),dtype=np.int32))\n",
    "print(np.ones((2,3),dtype=np.int32))\n",
    "print(np.empty((2,3),dtype=np.int32))\n",
    "# 3 arange\n",
    "print(np.arange(16))\n"
   ]
  },
  {
   "cell_type": "markdown",
   "metadata": {},
   "source": [
    "| 函数               | 说明 |\n",
    "| ------------------ | -------- |\n",
    "| array              | 转换数组 元组为ndarray 指定dtype 复制的 |\n",
    "| asarray            | 将输入转换为ndarray 如果是ndarray不转换 |\n",
    "| arange             | 类似range |\n",
    "| ones,ones_like     | 指定形状和dtype创建ndarray \\_like根据输入数据形状创建 |\n",
    "| zeros,zeros_like   | 同上 |\n",
    "| emptys,emptys_like | 同上 |\n",
    "| fulls,fulls_like   | 同上 fulls数据类型和value相同 \\_like类型和like对象相同 |\n",
    "| eye,identity       | 方形矩阵 |\n"
   ]
  },
  {
   "cell_type": "markdown",
   "metadata": {},
   "source": [
    "### 1.1.2 ndarray的数据类型\n",
    "\n",
    "| 类型 | 代码 | 说明 |\n",
    "| -------- | -------- | -------- |\n",
    "| int8/uint8    | i1/u1   | 1byte整数  |\n",
    "| int16/uint16  | i2/u2   | 2byte整数  |\n",
    "| int32/uint32  | i4/u4   | 4byte整数  |\n",
    "| int64/uint64  | i8/u8   | 8byte整数  |\n",
    "| float16       | f2      | 半精度浮点  |\n",
    "| float16       | f4/f    | 标准单精度浮点 float |\n",
    "| float16       | f8/d    | 标准双精度浮点 double |\n",
    "| float128      | f16/g   | 扩展精度浮点  |\n",
    "| complex64/complex128/complex256 | c8/c16 | 用2个32/64/128位浮点数表示的复数 |\n",
    "| bool          | ?       | 布尔 |\n",
    "| object        | O       | python对象 |\n",
    "| string_       | S       | 定长字符串 需要指定长度 如S10 |\n",
    "| unicode_      | U       | 定长unicode 字节数由平台决定 需要指定长度 如U10 |"
   ]
  },
  {
   "cell_type": "code",
   "execution_count": 55,
   "metadata": {},
   "outputs": [
    {
     "name": "stdout",
     "output_type": "stream",
     "text": [
      "float64 int8\n",
      "<U4\n",
      "[ 1.          2.32999992  3.          4.        ] [ 1.    2.33  3.    4.  ]\n",
      "[ 1.    2.33  3.    4.  ]\n"
     ]
    }
   ],
   "source": [
    "import numpy as np\n",
    "# 类型转换\n",
    "arr=np.array([1.,2,3,4])\n",
    "print(arr.dtype,arr.astype(np.int8).dtype)\n",
    "arr=np.array(['1.','2.33','3','4'])\n",
    "print(arr.dtype)\n",
    "print(arr.astype(np.float32),arr.astype(float))\n",
    "print(arr.astype(dtype='d'))"
   ]
  },
  {
   "cell_type": "markdown",
   "metadata": {},
   "source": [
    "### 1.1.3 NumPy数组的运算"
   ]
  },
  {
   "cell_type": "code",
   "execution_count": 56,
   "metadata": {},
   "outputs": [
    {
     "name": "stdout",
     "output_type": "stream",
     "text": [
      "[[ 0.68967785  1.31889915 -0.28561654]\n",
      " [ 1.38016394  0.41486153 -1.85975814]]\n",
      "[[ 1.3793557   2.6377983  -0.57123307]\n",
      " [ 2.76032787  0.82972305 -3.71951628]]\n",
      "[[-0.45978523 -0.8792661   0.19041102]\n",
      " [-0.92010929 -0.27657435  1.23983876]]\n",
      "[[ 1.44995232  0.75820809 -3.50119784]\n",
      " [ 0.72455161  2.41044285 -0.53770433]]\n",
      "[[  1.56038364e-01   3.99078140e+00  -1.90071387e-03]\n",
      " [  5.00787381e+00   1.22889790e-02  -2.22475575e+01]]\n",
      "[[False  True  True]\n",
      " [ True False False]]\n"
     ]
    }
   ],
   "source": [
    "import numpy as np\n",
    "arr=np.random.randn(2,3)\n",
    "print(arr)\n",
    "print(arr*2)\n",
    "print(arr/3-arr)\n",
    "print(1/arr)\n",
    "print(arr ** 5)#幂\n",
    "print(arr**3 >arr)#bool"
   ]
  },
  {
   "cell_type": "markdown",
   "metadata": {},
   "source": [
    "### 1.1.4 数组的广播\n",
    "- 从最小的维度开始匹配，数据长度必须为1或者相等\n",
    "- ndim小的数组追加长度为1的维度，该数据扩展到该维度其他数据上的计算"
   ]
  },
  {
   "cell_type": "code",
   "execution_count": 57,
   "metadata": {},
   "outputs": [
    {
     "name": "stdout",
     "output_type": "stream",
     "text": [
      "[[[ 2  4  6]\n",
      "  [ 5  7  9]]\n",
      "\n",
      " [[12 14 16]\n",
      "  [15 17 19]]]\n",
      "[[[ 2  3  4]\n",
      "  [ 6  7  8]]\n",
      "\n",
      " [[12 13 14]\n",
      "  [16 17 18]]]\n",
      "[[[101 202 303]\n",
      "  [104 205 306]]\n",
      "\n",
      " [[411 512 613]\n",
      "  [414 515 616]]]\n",
      "[[[101 202 303]\n",
      "  [404 505 606]]\n",
      "\n",
      " [[111 212 313]\n",
      "  [414 515 616]]]\n"
     ]
    }
   ],
   "source": [
    "import numpy as np\n",
    "arr = np.array([\n",
    "    [\n",
    "        [1,2,3],[4,5,6]\n",
    "    ],[\n",
    "        [11,12,13],[14,15,16]\n",
    "    ]\n",
    "])\n",
    "\n",
    "print(arr+[1,2,3])\n",
    "# print(arr+[1,2])#error\n",
    "print(arr+[[1],[2]])\n",
    "# print(arr+[[[1],[2]],[[100,200,300],[]]])#结构不一样的不会被识别为相同类型\n",
    "print(arr+[[[100,200,300]],[[400,500,600]]])#最里面的一维数组会展开\n",
    "print(arr+[[100,200,300],[400,500,600]])#自动展开中间一层 结果一样"
   ]
  },
  {
   "cell_type": "markdown",
   "metadata": {},
   "source": [
    "### 1.1.5 基本的索引和切片"
   ]
  },
  {
   "cell_type": "code",
   "execution_count": 58,
   "metadata": {},
   "outputs": [
    {
     "name": "stdout",
     "output_type": "stream",
     "text": [
      "[0, 1, 2, 3, 4]\n",
      "[0 1 3 3 4]\n",
      "arr [0, 1, 2, 3, 4] arr_s [2, 666]\n",
      "nparr [   0    1    3 6666    4] nparr_s [   3 6666]\n",
      "[  0   1 233 233   4]\n",
      "# 2维数据\n",
      "6 6\n",
      "# 3维数据\n",
      "[[[42 42 42]\n",
      "  [42 42 42]]\n",
      "\n",
      " [[ 7  8  9]\n",
      "  [10 11 12]]] <\n",
      "[[[ 1  2  3]\n",
      "  [ 4  5  6]]\n",
      "\n",
      " [[ 7  8  9]\n",
      "  [10 11 12]]] <\n",
      "[[[  1   2   3]\n",
      "  [  4   5   6]]\n",
      "\n",
      " [[222 222 222]\n",
      "  [ 10  11  12]]] <\n"
     ]
    }
   ],
   "source": [
    "import numpy as np\n",
    "arr = list(range(5))\n",
    "\n",
    "print(arr)\n",
    "# arr[2:4]=3 #error\n",
    "# print(arr)\n",
    "\n",
    "nparr=np.arange(5)\n",
    "nparr[2:4]=3\n",
    "print(nparr)\n",
    "\n",
    "\n",
    "arr_s=arr[2:4] # 有拷贝的\n",
    "arr_s[1]=666\n",
    "print(\"arr\",arr,\"arr_s\",arr_s)\n",
    "nparr_s=nparr[2:4] # 无拷贝的索引到原数组\n",
    "nparr_s[1]=6666\n",
    "print(\"nparr\",nparr,\"nparr_s\",nparr_s)\n",
    "nparr_s[:]=233 #修改原数组被切片的片段\n",
    "print(nparr)\n",
    "nparr_p=nparr[2:4].copy()#复制数据\n",
    "\n",
    "# 多维数据\n",
    "print(\"# 2维数据\")\n",
    "a2d = [[1, 2, 3], [4, 5, 6], [7, 8, 9]]\n",
    "# print(a2d[1][2],a2d[1,2]) # 原始的数组不能使用,索引\n",
    "arr2d = np.array([[1, 2, 3], [4, 5, 6], [7, 8, 9]])\n",
    "print(arr2d[1][2],arr2d[1,2])\n",
    "\n",
    "print(\"# 3维数据\")\n",
    "arr3d = np.array([[[1, 2, 3], [4, 5, 6]], [[7, 8, 9], [10, 11, 12]]])\n",
    "old_values = arr3d[0].copy()\n",
    "arr3d[0] = 42\n",
    "print(arr3d,\"<\")\n",
    "arr3d[0] = old_values # 数组对数组赋值\n",
    "print(arr3d,\"<\")\n",
    "arr3d[1,0]=222\n",
    "print(arr3d,\"<\")"
   ]
  },
  {
   "cell_type": "markdown",
   "metadata": {},
   "source": [
    "### 1.1.6 切片索引"
   ]
  },
  {
   "cell_type": "code",
   "execution_count": 59,
   "metadata": {},
   "outputs": [
    {
     "name": "stdout",
     "output_type": "stream",
     "text": [
      "[[2 3]\n",
      " [5 6]]\n",
      "[4 5]\n",
      "[[4 5]]\n",
      "[2 5]\n",
      "[[2]\n",
      " [5]]\n"
     ]
    }
   ],
   "source": [
    "arr2d = np.array([[1, 2, 3], [4, 5, 6], [7, 8, 9]])\n",
    "print(arr2d[:2, 1:])\n",
    "print(arr2d[1,:2])\n",
    "print(arr2d[1:2,:2])\n",
    "print(arr2d[:2,1])\n",
    "print(arr2d[:2,1:2])# 使用:切片会保留数组维度，使用索引的话会被直接取值"
   ]
  },
  {
   "cell_type": "markdown",
   "metadata": {},
   "source": [
    "### 1.1.7 布尔型索引"
   ]
  },
  {
   "cell_type": "code",
   "execution_count": 60,
   "metadata": {},
   "outputs": [
    {
     "name": "stdout",
     "output_type": "stream",
     "text": [
      "[[-0.44836632 -0.13296173 -0.68318744  2.46763793]\n",
      " [-0.82046893 -0.83866652 -0.86464667 -0.36347907]]\n",
      "[[ 0.1925472   1.32672087 -0.5988056  -0.11676674]\n",
      " [-0.51021993  1.34238386 -1.55932     1.4995274 ]\n",
      " [ 1.62977577  1.16553271 -1.29970672 -0.80649458]]\n",
      "布尔索引加切片和整数索引\n",
      "[[-0.5988056  -0.11676674]\n",
      " [-1.55932     1.4995274 ]\n",
      " [-1.29970672 -0.80649458]]\n",
      "[-0.11676674  1.4995274  -0.80649458]\n",
      "!= ~\n",
      "[[-1.08658046 -0.60647359  0.68881449 -0.12550207]\n",
      " [-1.34331543 -0.20758714 -0.29083158  0.15194384]\n",
      " [ 1.12541315  1.05830722 -0.73351227 -0.68456761]\n",
      " [-0.36383937  0.43185585  1.04685563 -0.24124147]]\n",
      "[[-1.08658046 -0.60647359  0.68881449 -0.12550207]\n",
      " [-1.34331543 -0.20758714 -0.29083158  0.15194384]\n",
      " [ 1.12541315  1.05830722 -0.73351227 -0.68456761]\n",
      " [-0.36383937  0.43185585  1.04685563 -0.24124147]]\n",
      "[ True False  True  True  True False False]\n",
      "布尔索引创建副本\n",
      "[[-1.08658046 -0.60647359  0.68881449 -0.12550207]\n",
      " [ 0.1925472   1.32672087 -0.5988056  -0.11676674]\n",
      " [-1.34331543 -0.20758714 -0.29083158  0.15194384]\n",
      " [ 1.12541315  1.05830722 -0.73351227 -0.68456761]\n",
      " [-0.36383937  0.43185585  1.04685563 -0.24124147]\n",
      " [-0.51021993  1.34238386 -1.55932     1.4995274 ]\n",
      " [ 1.62977577  1.16553271 -1.29970672 -0.80649458]] <\n",
      "[[ 0.  0.  0.  0.]\n",
      " [ 0.  0.  0.  0.]\n",
      " [ 0.  0.  0.  0.]] <\n",
      "[ 0.  0.  0.  0.  0.  0.  0.  0.  0.  0.  0.  0.  0.  0.  0.  0.]\n",
      "[[-1.08658046 -0.60647359  0.68881449 -0.12550207]\n",
      " [ 0.1925472   1.32672087 -0.5988056  -0.11676674]\n",
      " [-1.34331543 -0.20758714 -0.29083158  0.15194384]\n",
      " [ 1.12541315  1.05830722 -0.73351227 -0.68456761]\n",
      " [-0.36383937  0.43185585  1.04685563 -0.24124147]\n",
      " [-0.51021993  1.34238386 -1.55932     1.4995274 ]\n",
      " [ 1.62977577  1.16553271 -1.29970672 -0.80649458]]\n",
      "[[ 7.          7.          7.          7.        ]\n",
      " [ 0.1925472   1.32672087  0.          0.        ]\n",
      " [ 7.          7.          7.          7.        ]\n",
      " [ 7.          7.          7.          7.        ]\n",
      " [ 7.          7.          7.          7.        ]\n",
      " [ 0.          1.34238386  0.          1.4995274 ]\n",
      " [ 1.62977577  1.16553271  0.          0.        ]]\n"
     ]
    }
   ],
   "source": [
    "import numpy as np\n",
    "arr = np.random.randn(3,4)\n",
    "print(arr[[True,False,True]])\n",
    "# print(arr[[True,False,True,True]]) # 报错布尔数组长度的数据0维度的长度不同\n",
    "\n",
    "names = np.array(['Bob','Joe','Will','Bob','Will','Joe','Joe'])\n",
    "data = np.random.randn(7,4)\n",
    "print(data[names=='Joe'])\n",
    "\n",
    "#布尔索引加切片和整数索引\n",
    "print('布尔索引加切片和整数索引')\n",
    "print(data[names=='Joe',2:])\n",
    "print(data[names=='Joe',3])\n",
    "\n",
    "print('!= ~')\n",
    "print(data[names!='Joe'])\n",
    "print(data[~ (names=='Joe')])\n",
    "\n",
    "#布尔数组和布尔运算 & |\n",
    "print((names == 'Bob') | (names == 'Will'))\n",
    "\n",
    "## 使用布尔索引总是创建副本\n",
    "print('布尔索引创建副本')\n",
    "jarr=data[names == 'Joe']\n",
    "jarr[:] = 0\n",
    "print(data,'<')\n",
    "print(jarr,'<')\n",
    "\n",
    "## 使用布尔索引过滤到item\n",
    "parr = data[data<0] # 赋值出去 索引操作在等号右边到会产生副本\n",
    "parr[:] = 0 # 被赋值 索引操作在等号左边 会修改内部数据\n",
    "print(parr)\n",
    "print(data)\n",
    "#二维布尔索引\n",
    "data[data<0] = 0 # 被赋值 索引操作在等号左边 会修改内部数据\n",
    "#一维布尔索引\n",
    "data[names != 'Joe'] = 7\n",
    "print(data)\n",
    "#而且哪种赋值表达式都不能直接反正print里边\n",
    "# print(parr = data[data<0])\n",
    "# print(data[data<0] = 0)\n",
    "\n"
   ]
  },
  {
   "cell_type": "markdown",
   "metadata": {},
   "source": [
    "## 1.1.8 花式索引\n",
    "用整数数组索引  \n",
    "数据是复制的"
   ]
  },
  {
   "cell_type": "code",
   "execution_count": 61,
   "metadata": {},
   "outputs": [
    {
     "name": "stdout",
     "output_type": "stream",
     "text": [
      "[[40 41 42 43]\n",
      " [60 61 62 63]\n",
      " [50 51 52 53]] <\n",
      "[[ 2  1  1]\n",
      " [12 11 11]\n",
      " [22 21 21]\n",
      " [32 31 31]\n",
      " [42 41 41]\n",
      " [52 51 51]\n",
      " [62 61 61]\n",
      " [72 71 71]] <\n",
      "[70 53 32 11] <\n",
      "[[10 13 11 12]\n",
      " [50 53 51 52]\n",
      " [70 73 71 72]\n",
      " [20 23 21 22]]\n",
      "[  0   1   2 -10 -10   5   6   7   8   9]\n",
      "[-10 -10]\n"
     ]
    }
   ],
   "source": [
    "import numpy as np\n",
    "\n",
    "arr = np.array(\n",
    "[[x+y for x in range(4)] for y in range(0,80,10)]\n",
    ")\n",
    "\n",
    "#指定列表用来排序\n",
    "print(arr[[4,6,-3]],'<')#选择行并排序\n",
    "print(arr[:,[2,1,-3]],'<')#选择列并排序\n",
    "# print(list(range(10))[[4,3,-1]]) #普通数组是不行的\n",
    "print(arr[\n",
    "    [7,5,3,1],#第0维\n",
    "    [0,3,2,1] #第1维\n",
    "],'<')# 索引内使用并列的数组并不是对两个维度进行排序，而是分别指定两个维度的索引取item\n",
    "\n",
    "#只有[:,[xxx]]的语法才是对列排序\n",
    "# *没有办法在一个操作内同时对行和列进行索引排序吗*\n",
    "\n",
    "print(\n",
    "    arr[[1,5,7,2]]#选择行并排序\n",
    "    [:,[0,3,1,2]]#选择列并排序\n",
    ")\n",
    "#索引操作是产生副本\n",
    "\n",
    "a=np.arange(10) #切片操作是产生窗口\n",
    "b=a[3:5]\n",
    "b[:]=-10\n",
    "print(a)\n",
    "print(b)"
   ]
  },
  {
   "cell_type": "markdown",
   "metadata": {},
   "source": [
    "## 1.1.9 数组转置和轴对换"
   ]
  },
  {
   "cell_type": "code",
   "execution_count": 62,
   "metadata": {},
   "outputs": [
    {
     "name": "stdout",
     "output_type": "stream",
     "text": [
      "[[ 0  1  2  3  4]\n",
      " [10 11 12 13 14]\n",
      " [20 21 22 23 24]] <\n",
      "<built-in method transpose of numpy.ndarray object at 0x7f972937fcb0> <\n",
      "[[ 0 10 20]\n",
      " [ 1 11 21]\n",
      " [ 2 12 22]\n",
      " [ 3 13 23]\n",
      " [ 4 14 24]] <\n",
      "[[500 530 560 590 620]\n",
      " [530 563 596 629 662]\n",
      " [560 596 632 668 704]\n",
      " [590 629 668 707 746]\n",
      " [620 662 704 746 788]] <\n",
      "[[[ 0  1  2  3]\n",
      "  [ 4  5  6  7]\n",
      "  [ 8  9 10 11]]\n",
      "\n",
      " [[12 13 14 15]\n",
      "  [16 17 18 19]\n",
      "  [20 21 22 23]]] <\n",
      "[[[ 0  1  2  3]\n",
      "  [12 13 14 15]]\n",
      "\n",
      " [[ 4  5  6  7]\n",
      "  [16 17 18 19]]\n",
      "\n",
      " [[ 8  9 10 11]\n",
      "  [20 21 22 23]]] <trans\n",
      "[[[ 0  1  2  3]\n",
      "  [12 13 14 15]]\n",
      "\n",
      " [[ 4  5  6  7]\n",
      "  [16 17 18 19]]\n",
      "\n",
      " [[ 8  9 10 11]\n",
      "  [20 21 22 23]]] <swap\n"
     ]
    }
   ],
   "source": [
    "import numpy as np\n",
    "\n",
    "arr = np.array([np.arange(x,x+5) for x in range(0,30,10)])\n",
    "print(arr,'<')\n",
    "\n",
    "#使用trnspose方法\n",
    "# print(np.transpose(arr),'<')\n",
    "print(arr.transpose,'<')\n",
    "#使用T属性\n",
    "print(arr.T,'<')\n",
    "#np.dot()方法 点乘/内积\n",
    "print(np.dot(arr.T,arr),'<')\n",
    "\n",
    "#高维数组转置 需要指定由轴编号组成的元组\n",
    "arr = np.arange(24).reshape((2,3,4))\n",
    "print(arr,'<')\n",
    "print(arr.transpose((1,0,2)),'<trans')# 对应旧轴的顺序\n",
    "# print(arr.T,'<')#这两个是等价的 把轴做一次倒序\n",
    "# print(arr.transpose(2,1,0),'<')#这两个是等价的\n",
    "\n",
    "#swapaxes()方法 交换轴\n",
    "print(arr.swapaxes(1,0),'<swap')#顺序没有关系 只能交换两轴"
   ]
  },
  {
   "cell_type": "markdown",
   "metadata": {},
   "source": [
    "## 1.2 通用函数：快速的元素级数组函数\n",
    "通用函数ufunc对ndarray的数据进行元素级运算  \n",
    "呃 一般函数的矢量化包装器 呃 没啥说的"
   ]
  },
  {
   "cell_type": "code",
   "execution_count": 63,
   "metadata": {},
   "outputs": [
    {
     "name": "stdout",
     "output_type": "stream",
     "text": [
      "[ 0.          1.          1.41421356  1.73205081] <1\n",
      "[  1.           2.71828183   7.3890561   20.08553692] <2\n",
      "[ 1.07277901  1.3228742   1.04327218  1.13463556] <3\n",
      "[-0.2762862   0.17136474 -0.99398618 -0.256801  ] <remainder\n",
      "[-3.  1. -1. -5.] <whole_part\n",
      "[-3.2762862   1.17136474 -1.99398618 -5.256801  ]\n",
      "[[ 1.81005144  1.08229605  1.41208575  2.29277147]\n",
      " [ 1.81005144  1.08229605  1.41208575  2.29277147]\n",
      " [ 1.81005144  1.08229605  1.41208575  2.29277147]] <oarr\n"
     ]
    }
   ],
   "source": [
    "## import numpy as np\n",
    "# 一元的\n",
    "arr = np.arange(4)\n",
    "print(np.sqrt(arr),'<1')\n",
    "print(np.exp(arr),'<2') #e为底数\n",
    "\n",
    "#二元的\n",
    "x=np.random.randn(4)\n",
    "y=np.random.randn(4)\n",
    "print(np.maximum(x,y),'<3')\n",
    "\n",
    "#返回多个数组的\n",
    "arr = np.random.randn(4)*5\n",
    "remainder,whole_part = np.modf(arr)\n",
    "print(remainder,'<remainder')\n",
    "print(whole_part,'<whole_part')\n",
    "\n",
    "#接受一个out参数获取结果\n",
    "print(arr)\n",
    "oarr=np.ones((3,4),dtype=arr.dtype)\n",
    "np.sqrt(np.abs(arr),oarr)#输入小于0会有提醒 要满足广播条件(shape/dtype)\n",
    "print(oarr,'<oarr')\n"
   ]
  },
  {
   "cell_type": "markdown",
   "metadata": {},
   "source": [
    "\n",
    "link\n",
    "\n",
    "**一元ufunc**\n",
    "\n",
    "| 函数      | 说明     |\n",
    "| --------  | -------- |\n",
    "| fabs/fabs | 计算整数 浮点数(复数)绝对值 |\n",
    "| sqrt      | 开方 (arr**0.5) |\n",
    "| square    | 平方 (arr**2)   |\n",
    "| exp       | 计算e的指数     |\n",
    "| log/log10/log2/log1p | loge() log10() log2() loge(1+x) |\n",
    "| sign       | 获取负号 (1,0,-1) |\n",
    "| ceil       | 向上取整    |\n",
    "| floor      | 向下取整    |\n",
    "| arccos/arcconh/arcsin/arcsinh/arctan/arctanh | 反三角函数  |\n",
    "| logical_not       | 逻辑非???   |\n",
    "\n",
    "**二元ufunc**\n",
    "\n",
    "| 函数      | 说明     |\n",
    "| --------  | -------- |\n",
    "| add       | 相加     |\n",
    "| subtract  | 相减     |\n",
    "| multiply  | 元素相乘 |\n",
    "| divide/floor_fivide | 除法/向下取整 |\n",
    "| power     | 幂运算   |\n",
    "| maximum/fmax | 最大值 fmax忽略NaN   |\n",
    "| minimum/fmin | 最小值 fmin忽略NaN   |\n",
    "| mod       | 取模     |\n",
    "| copysign  | 将后面数组的负号付给前面的数组 |"
   ]
  },
  {
   "cell_type": "markdown",
   "metadata": {},
   "source": [
    "## 1.3 利用数组进行数据处理"
   ]
  },
  {
   "cell_type": "code",
   "execution_count": 8,
   "metadata": {},
   "outputs": [
    {
     "data": {
      "text/plain": [
       "Text(0.5,1,'Image plot of $\\\\sqrt{x^2 + y^2}$ for a grid of values')"
      ]
     },
     "execution_count": 8,
     "metadata": {},
     "output_type": "execute_result"
    },
    {
     "data": {
      "image/png": "[encoded data removed]",
      "text/plain": [
       "<Figure size 432x288 with 2 Axes>"
      ]
     },
     "metadata": {},
     "output_type": "display_data"
    }
   ],
   "source": [
    "import numpy as np\n",
    "\n",
    "points = np.arange(-5, 5, 0.01) # 1000 equally spaced points\n",
    "xs, ys = np.meshgrid(points, points)\n",
    "# 相当于执行两次arange产生x[]/y[]数据，增长方向不一样\n",
    "# print(xs,\"<\")\n",
    "# print(xy,\"<\")\n",
    "z=np.sqrt(xs ** 2 + ys ** 2)\n",
    "\n",
    "import matplotlib.pyplot as plt\n",
    "%matplotlib inline\n",
    "plt.imshow(z,cmap=plt.cm.gray);\n",
    "plt.colorbar()\n",
    "plt.title(\"Image plot of $\\sqrt{x^2 + y^2}$ for a grid of values\")"
   ]
  },
  {
   "cell_type": "markdown",
   "metadata": {},
   "source": [
    "### 1.3.1 将条件逻辑表述为数组运算"
   ]
  },
  {
   "cell_type": "code",
   "execution_count": 27,
   "metadata": {},
   "outputs": [
    {
     "name": "stdout",
     "output_type": "stream",
     "text": [
      "[1.0, 1.1000000000000001, 1.2000000000000002, 1.3000000000000003, 1.4000000000000004]\n",
      "[ 1.   1.1  1.2  1.3  1.4]\n",
      "[[-1.26963742 -0.46019919 -0.50855917 -1.97848978]\n",
      " [-0.02568585 -1.42644313 -0.55978733 -0.51710313]\n",
      " [ 0.22593783 -0.98417802 -0.49862428  0.24970783]\n",
      " [-1.7386752   1.10829109  0.69733935  2.3717413 ]]\n",
      "[[-2 -2 -2 -2]\n",
      " [-2 -2 -2 -2]\n",
      " [ 2 -2 -2  2]\n",
      " [-2  2  2  2]]\n",
      "[[-1.26963742 -0.46019919 -0.50855917 -1.97848978]\n",
      " [-0.02568585 -1.42644313 -0.55978733 -0.51710313]\n",
      " [ 2.         -0.98417802 -0.49862428  2.        ]\n",
      " [-1.7386752   2.          2.          2.        ]]\n",
      "[[1 2 3 4]\n",
      " [1 2 3 4]\n",
      " [2 2 3 2]\n",
      " [1 2 2 2]]\n"
     ]
    }
   ],
   "source": [
    "import numpy as np\n",
    "xarr = np.arange(1,1.5,0.1)\n",
    "yarr = np.arange(1,1.5,0.1)\n",
    "cond = np.array([True,False,True,True,False])\n",
    "\n",
    "result = [(x if c else y)\n",
    "    for x,y,c in zip(xarr,yarr,cond)] #转换为一般数组处理\n",
    "print(result)\n",
    "# zip可以将两个数组打包为数据对的组元数组\n",
    "\n",
    "# 使用where矩阵运算\n",
    "print(np.where(cond, xarr, yarr))\n",
    "\n",
    "arr=np.random.randn(4,4)\n",
    "print(arr)\n",
    "print(np.where(arr>0,2,-2))\n",
    "print(np.where(arr>0,2,arr))#可以是数组或者标量\n",
    "print(np.where(arr>0,2,[1,2,3,4])) #满足广播规则就可"
   ]
  },
  {
   "cell_type": "markdown",
   "metadata": {},
   "source": [
    "## 1.3.2 数学和统计方法\n",
    "sum/mean/std等聚合计算(统计)\n",
    "可以当作数组实例方法调用，也可以当作顶级NumPy方法调用"
   ]
  },
  {
   "cell_type": "code",
   "execution_count": 37,
   "metadata": {},
   "outputs": [
    {
     "name": "stdout",
     "output_type": "stream",
     "text": [
      "[[-0.43208026  0.87747801 -0.74046171 -1.01621012]\n",
      " [-0.3272143   1.0913625   0.46134183 -2.33021529]\n",
      " [ 1.66555389 -1.09570807  1.66274146 -1.32274233]\n",
      " [ 1.74906789 -0.17369886 -0.03887682 -0.28694192]\n",
      " [ 0.2848899  -0.2701851   0.4783218  -0.10653487]]\n",
      "0.00649438245506\n",
      "0.00649438245506\n",
      "0.129887649101\n",
      "[-0.32781852 -0.27618132  0.22746124  0.31238757  0.09662293] <\n",
      "[ 0.58804342  0.0858497   0.36461331 -1.0125289 ]\n",
      "[ 0.58804342  0.0858497   0.36461331 -1.0125289 ]\n",
      "[ 1  3  6 10 15 21] <cumsum\n",
      "[[1 2 3]\n",
      " [5 7 9]]\n",
      "[[ 1  3  6]\n",
      " [ 4  9 15]]\n",
      "[  1   2   6  24 120 720]\n"
     ]
    }
   ],
   "source": [
    "arr = np.random.randn(5,4)\n",
    "print(arr)\n",
    "print(arr.mean())\n",
    "print(np.mean(arr))\n",
    "print(arr.sum())\n",
    "\n",
    "# mean/sum等可以指定聚合计算的轴向\n",
    "print(arr.mean(axis=1),\"<\")\n",
    "print(arr.mean(axis=0))\n",
    "print(arr.mean(0))\n",
    "\n",
    "# cumsum/cumprod等不聚合的方法会产生由中间结果组成的数组\n",
    "arr = np.array([[1,2,3],[4,5,6]])\n",
    "print(arr.cumsum(),\"<cumsum\") #累加\n",
    "print(arr.cumprod())#累积\n",
    "# 指定维度返回的同样大小的数组，但是会根据每个低维的切片沿着标记轴计算部分聚类：\n",
    "print(arr.cumsum(0))\n",
    "print(arr.cumsum(1))"
   ]
  },
  {
   "cell_type": "markdown",
   "metadata": {},
   "source": [
    "表4-5:级别数组统计方法\n",
    "\n",
    "\n",
    "| 方法          | 说明 2 |\n",
    "| ------------- | -------- |\n",
    "| sum           | 求和 全部或轴向        |\n",
    "| mean          | 算术平均数             |\n",
    "| std/var       | 方差/标准差 自由度可调 |\n",
    "| mini/max      | 最大值和最小值         |\n",
    "| argmin/argmax | 最大/最小元素索引      |\n",
    "| cunsum        | 累加      |\n",
    "| cumrod        | 累积      |\n",
    "\n"
   ]
  },
  {
   "cell_type": "markdown",
   "metadata": {},
   "source": [
    "## 1.3.3 列出了全部的基本数组统计方法"
   ]
  },
  {
   "cell_type": "code",
   "execution_count": 2,
   "metadata": {},
   "outputs": [
    {
     "name": "stdout",
     "output_type": "stream",
     "text": [
      "56\n",
      "True\n",
      "False\n"
     ]
    }
   ],
   "source": [
    "import numpy as np\n",
    "#利用布尔值计数\n",
    "arr = np.random.randn(100)\n",
    "print((arr > 0).sum())\n",
    "\n",
    "#any 包含true检测\n",
    "arr = np.array([False,False,True,False])\n",
    "print(arr.any())\n",
    "print(arr.all())"
   ]
  },
  {
   "cell_type": "markdown",
   "metadata": {},
   "source": [
    "## 1.3.4 排序\n",
    "\n",
    "| 种类                | 速度 | 最坏情况      | 工作空间 | 稳定性 |\n",
    "| ------------------- | ---- | ------------- |-------- |------- |\n",
    "| 'quicksort'(快排)     | 1    | O(n^2)        | 0    |否     |\n",
    "| 'mergesote'(归并排序) | 2    | O(n\\*long(n)) | ~n/2 |是     |\n",
    "| 'heapsote'(堆排序)    | 3    | O(n\\*log(n))  | 0    |否     |\n",
    "\n",
    "返回输入数组排序的副本\n",
    "numpy.sort(a,axis,kind,order)\n",
    "\n",
    "- a 输入数组\n",
    "- axis 沿着指定轴向排序 如果没有数组会被展开，沿着最后的轴排序 //什么意思\n",
    "- kind 默认为'quicksort'\n",
    "- order 指定对某个字段排序\n"
   ]
  },
  {
   "cell_type": "code",
   "execution_count": 24,
   "metadata": {},
   "outputs": [
    {
     "name": "stdout",
     "output_type": "stream",
     "text": [
      "[[3 7]\n",
      " [9 1]]\n",
      "[[3 7]\n",
      " [1 9]]\n",
      "[[3 1]\n",
      " [9 7]] <延0轴\n",
      "[('name', 'S10'), ('age', '<i8')] [('name', 'S10'), ('age', '<i8')] <class 'numpy.bytes_'> <class 'numpy.int64'>\n",
      "[(b'raju', 21) (b'anil', 25) (b'favi', 17) (b'amar', 27)]\n",
      "[(b'amar', 27) (b'anil', 25) (b'favi', 17) (b'raju', 21)] <按name字段排序\n"
     ]
    }
   ],
   "source": [
    "import numpy as np\n",
    "\n",
    "a = np.array([[3,7],[9,1]])\n",
    "print(a)\n",
    "print(np.sort(a))\n",
    "print(np.sort(a,axis=0),\"<延0轴\")\n",
    "dt = np.dtype([('name','S10'),('age',int)]) #使用组元定义每个字段的名字和类型\n",
    "a = np.array([('raju',21),('anil',25),('favi',17),('amar',27)],dtype = dt)\n",
    "# print(dt, a.dtype,type(a[0][0]),type(a[0][1]))\n",
    "# numpy里的字符串(Sn)是按np.bytes_存储的\n",
    "print(a)\n",
    "print(np.sort(a,order = \"name\"),'<按name字段排序')\n",
    "\n",
    "arr = np.random.randint(0,100,size=(3,5))\n",
    "print(arr)\n",
    "arr.sort(1)\n",
    "print(arr,'直接修改数据')"
   ]
  },
  {
   "cell_type": "code",
   "execution_count": 54,
   "metadata": {},
   "outputs": [
    {
     "name": "stdout",
     "output_type": "stream",
     "text": [
      "[[ 2 97 83  1 18]\n",
      " [12 79 91 86 61]\n",
      " [86 48 37  4 76]] <x\n",
      "[[3 0 4 2 1]\n",
      " [0 4 1 3 2]\n",
      " [3 2 1 4 0]] <y\n",
      "[[ 1  2 18 83 97]\n",
      " [12 61 79 86 91]\n",
      " [ 4 37 48 76 86]]\n"
     ]
    }
   ],
   "source": [
    "import numpy as np\n",
    "# numpy.argsort() 指定轴间接排序\n",
    "# 返回排序后的索引\n",
    "x = np.random.randint(0,100,size=(3,5))\n",
    "y = np.argsort(x)\n",
    "print(x,'<x')\n",
    "print(y,'<y')\n",
    "# print(x[y]) 原例子里一维数组对一维数组可以直接取值\n",
    "# for index,item in enumerate(x):\n",
    "#     print(item[y[index]])\n",
    "print( np.array([item[y[index]]  for index,item in enumerate(x)]) )"
   ]
  },
  {
   "cell_type": "code",
   "execution_count": 47,
   "metadata": {},
   "outputs": [
    {
     "name": "stdout",
     "output_type": "stream",
     "text": [
      "[3 1 2 0]\n",
      "['amar,f.y', 'anil,s.y', 'raiv,s.y', 'raju,f.y']\n"
     ]
    }
   ],
   "source": [
    "import numpy as np\n",
    "# numpy.lexsort() 键序列间接排序 最后一个键是主键\n",
    "nm = ('raju','anil','raiv','amar') #主键\n",
    "dv = ('f.y','s.y','s.y','f.y')\n",
    "ind = np.lexsort((dv,nm))\n",
    "print(ind)\n",
    "print([nm[i] + ',' + dv[i] for i in ind])"
   ]
  },
  {
   "cell_type": "markdown",
   "metadata": {},
   "source": [
    "## 1.3.5 唯一化以及其它的集合逻辑"
   ]
  },
  {
   "cell_type": "code",
   "execution_count": 3,
   "metadata": {},
   "outputs": [
    {
     "name": "stdout",
     "output_type": "stream",
     "text": [
      "['Bob' 'Joe' 'Will'] <unique\n",
      "[1 2 3 4] <unique\n",
      "['Bob', 'Joe', 'Will'] sorted set\n",
      "[ True False False  True  True False  True] <in1d\n"
     ]
    }
   ],
   "source": [
    "import numpy as np\n",
    "\n",
    "#np.unique() 找出唯一的数据并排序\n",
    "names = np.array(['Bob','Joe','Will','Bob','Will','Joe','Joe'])\n",
    "print(np.unique(names),'<unique')\n",
    "ints = np.array([3,3,3,2,2,1,1,4,4])\n",
    "print(np.unique(ints),'<unique')\n",
    "print(sorted(set(names)),'sorted set')\n",
    "\n",
    "#np.in1d() 测试亿数组在另一数组的包含关系 返回布尔数组\n",
    "values = np.array([6,0,0,3,2,5,6])\n",
    "\n",
    "print(np.in1d(values,[2,3,6]),'<in1d')\n"
   ]
  },
  {
   "cell_type": "markdown",
   "metadata": {},
   "source": [
    "表4-6:数组的集合运算\n",
    "\n",
    "\n",
    "| 方法 | 说明 |\n",
    "| -------- | -------- |\n",
    "| unique(x) | 计数x中的的唯一元素并返回有序结果 |\n",
    "| intersect1d(x,y) | 交集 返回有序结果      |\n",
    "| union1d(x,y)     | 并集 返回有序结构结果  |\n",
    "| in1d(x,y)      | 检查x每项元素包含于y     |\n",
    "| setdiff1d(x,y) | 集合的差 x不在y中的元    |\n",
    "| setxor1d(x,y   | 集合对称差 仅存在两集合的其中之一的元素 |"
   ]
  },
  {
   "cell_type": "markdown",
   "metadata": {},
   "source": [
    "# 1.4 用于数组的文件输入输出\n",
    "- 查看个人空间的内容 !ls /home/tianchi/myspace  \n",
    "https://tianchi.aliyun.com/mas-notebook/preview/5/82551b50-7d1d-11e9-a9e9-6559858e5766.ipynb/1095279474052#%E5%AD%98%E5%82%A8%E8%B5%84%E6%BA%90\n"
   ]
  },
  {
   "cell_type": "code",
   "execution_count": 32,
   "metadata": {},
   "outputs": [
    {
     "name": "stdout",
     "output_type": "stream",
     "text": [
      "e:\\users\\lgame\\appdata\\local\\programs\\python\\python36\\lib\\site-packages\n",
      "D:\\Note\\笔记整理\\note-2020-03-18-tianchi\\note-2020-03-18-numpy\n",
      "D:\\Note\\笔记整理\\note-2020-03-18-tianchi\\note-2020-03-18-numpy\n",
      ".\n",
      "D:\\Note\\笔记整理\\note-2020-03-18-tianchi\\note-2020-03-18-numpy\n"
     ]
    }
   ],
   "source": [
    "import sys\n",
    "import os\n",
    "\n",
    "# sys/os test\n",
    "path = sys.argv[0]\n",
    "if os.path.isdir(path):#运行路径\n",
    "    print(path)\n",
    "elif  os.path.isfile(path):#py2exe编译后的文件\n",
    "    print(os.path.dirname(path))\n",
    "\n",
    "print(os.getcwd())#脚本运行目录\n",
    "print(os.path.abspath('.'))\n",
    "print(os.curdir)\n",
    "print(os.path.abspath(os.curdir)) #额...\n",
    "\n",
    "#os.chdir(path)改变工作路径\n",
    "#os.system('cls')"
   ]
  },
  {
   "cell_type": "code",
   "execution_count": 2,
   "metadata": {},
   "outputs": [
    {
     "name": "stdout",
     "output_type": "stream",
     "text": [
      "[0 1 2 3 4 5 6 7 8 9] <load\n",
      "[[0 1 2 3 4 5 6 7 8 9]\n",
      " [0 1 2 3 4 5 6 7 8 9]] load-savez\n",
      "2 <load-savez_compressed\n"
     ]
    }
   ],
   "source": [
    "import numpy as np\n",
    "import os\n",
    "\n",
    "prefix = './files/'\n",
    "arr = np.arange(10)\n",
    "#np.save() 保存未压缩的原始二进制数据\n",
    "# np.save('some_array',arr)\n",
    "np.save(prefix+'some_array',arr)#未压缩的原始二进制数据\n",
    "\n",
    "# !ls\n",
    "# !dir\n",
    "\n",
    "print(np.load(prefix+\"some_array.npy\"),'<load')\n",
    "#np.savez() 通过关键字参数保存多个数据\n",
    "np.savez(prefix+\"array_archive\",a=arr,b=[arr,arr])\n",
    "print(np.load(prefix+\"array_archive.npz\")['b'],'load-savez')\n",
    "\n",
    "np.savez_compressed(prefix+'arrays_sompressed.npz',a=2,b=arr)\n",
    "print(np.load(prefix+\"arrays_sompressed.npz\")['a'],'<load-savez_compressed')\n"
   ]
  },
  {
   "cell_type": "markdown",
   "metadata": {},
   "source": [
    "# 1.5 线性代数\n",
    "np的*运算是元素运算而不是矩阵点积  \n",
    "点积应使用np.dot(x,y)\n",
    "或者使用@运算符计算点积"
   ]
  },
  {
   "cell_type": "code",
   "execution_count": 64,
   "metadata": {},
   "outputs": [
    {
     "name": "stdout",
     "output_type": "stream",
     "text": [
      "[[ 28.  64.]\n",
      " [ 67. 181.]]\n",
      "[[ 98. 127. 156.]\n",
      " [ 27.  33.  39.]\n",
      " [ 44.  61.  78.]]\n",
      "[1. 1. 1.] <ones\n",
      "[ 6. 15.]\n",
      "[ 6. 15.] <@\n"
     ]
    }
   ],
   "source": [
    "import numpy as np\n",
    "x= np.array([[1,2,3],[4.,5.,6.]])\n",
    "y= np.array([[6.,23.],[-1,7],[8,9]])\n",
    "print(x.dot(y))\n",
    "print(y.dot(x))\n",
    "# print(np.dot(x,y))\n",
    "\n",
    "print(np.ones(3),'<ones')\n",
    "print(np.dot(x,np.ones(3)))\n",
    "\n",
    "print(x @ np.ones(3),'<@')"
   ]
  },
  {
   "cell_type": "markdown",
   "metadata": {},
   "source": [
    "numpy.linal线性代数运算库，于MATLAB R语言相同标准，用于计算矩阵分解 逆矩阵等  \n",
    "如 BLAS/LAPACK/Inerl/MKL(Math Kernel Library)..."
   ]
  },
  {
   "cell_type": "code",
   "execution_count": 80,
   "metadata": {},
   "outputs": [
    {
     "name": "stdout",
     "output_type": "stream",
     "text": [
      "[[3542 1964 3609 3436 2721]\n",
      " [1964 2461 2805 2243 2933]\n",
      " [3609 2805 4419 3848 3754]\n",
      " [3436 2243 3848 3764 3463]\n",
      " [2721 2933 3754 3463 4699]] <mat\n",
      "[[ 0.00458356 -0.00053132 -0.00114251 -0.00435596  0.00180042]\n",
      " [-0.00053132  0.0034867  -0.00279728  0.00288899 -0.001763  ]\n",
      " [-0.00114251 -0.00279728  0.00498888 -0.00291495  0.00057021]\n",
      " [-0.00435596  0.00288899 -0.00291495  0.00837459 -0.00312393]\n",
      " [ 0.00180042 -0.001763    0.00057021 -0.00312393  0.00211737]] <inv(mat)\n",
      "[[3542. 1964. 3609. 3436. 2721.]\n",
      " [1964. 2461. 2805. 2243. 2933.]\n",
      " [3609. 2805. 4419. 3848. 3754.]\n",
      " [3436. 2243. 3848. 3764. 3463.]\n",
      " [2721. 2933. 3754. 3463. 4699.]] <ing(inv(mat)\n",
      "[[ 1. -0.  0.  0. -0.]\n",
      " [ 0.  1. -0.  0.  0.]\n",
      " [ 0.  0.  1.  0.  0.]\n",
      " [-0. -0. -0.  1. -0.]\n",
      " [-0.  0.  0.  0.  1.]] <mat.dot(inv(mat))\n"
     ]
    }
   ],
   "source": [
    "import numpy as np\n",
    "from numpy.linalg import inv,qr\n",
    "X=np.random.randint(0,50,(5,5))\n",
    "mat=X.T.dot(X)\n",
    "# print(X,'<X')\n",
    "# print(X.T,'<X.T')\n",
    "print(mat,\"<mat\")\n",
    "print(inv(mat),'<inv(mat)')#逆矩阵\n",
    "print(inv(inv(mat)),'<ing(inv(mat)')#逆矩阵\n",
    "print(np.around(\n",
    "    mat.dot(inv(mat)),\n",
    "    decimals=2\n",
    "),'<mat.dot(inv(mat))')"
   ]
  },
  {
   "cell_type": "markdown",
   "metadata": {},
   "source": [
    "表4-7:常用numpy.linalg函数\n",
    "\n",
    "| 函数 | 说明 |\n",
    "| :--- | :--- |\n",
    "| diag | 返回方阵的对角线或非对角线的一维数组,或将一维数组转为方阵 |\n",
    "| dot | 点击 |\n",
    "| trace | 对角线求和 |\n",
    "| det | 矩阵行列式 |\n",
    "| eig | 方阵本征值和本征向量 |\n",
    "| inv | 方阵的逆 |\n",
    "| pinv | Mooer-Penrose伪逆 |\n",
    "| qr | QR分解 |\n",
    "| svd | 奇异值分解 |\n",
    "| solve | 求线性方阵 Ax=b |\n",
    "| lstsq | 计算Ax=b的最小二阶解  |\n",
    "\n",
    "- [行列式->](https://baike.baidu.com/item/%E8%A1%8C%E5%88%97%E5%BC%8F/2010180)\n",
    "  描述一个线性变换对体积的影响\n",
    "- [本征值和本征向量->](https://baike.baidu.com/item/%E7%89%B9%E5%BE%81%E5%80%BC/11034909)  \n",
    "  一个矩阵在某个向量的情况下作用效果和某常量相同 Ax=mx  \n",
    "  那么m是A的一个特征值,x是A在特征值m情况下的特征向量\n",
    "- [QR分解](https://baike.baidu.com/item/QR%E5%88%86%E8%A7%A3/8918473)  \n",
    "  求一般矩阵全部特征值的最有效并广泛应用的方法\n",
    "\n"
   ]
  },
  {
   "cell_type": "code",
   "execution_count": 18,
   "metadata": {
    "scrolled": true
   },
   "outputs": [
    {
     "name": "stdout",
     "output_type": "stream",
     "text": [
      "[[ 2 31 45 64]\n",
      " [ 9 60 48 44]\n",
      " [64 75 59 10]\n",
      " [60 50  6 55]] <asd\n",
      "[ 2 60 59 55] diag-2d\n",
      "[[1 0 0 0]\n",
      " [0 2 0 0]\n",
      " [0 0 3 0]\n",
      " [0 0 0 4]] diag-1d\n",
      "[[ 7086  6854  5748  5460]\n",
      " [ 6854  7921  8348  6248]\n",
      " [ 5748  8348 13302  8494]\n",
      " [ 5460  6248  8494  9161]] <dot\n",
      "176 <trace\n",
      "-8099986.000000003 <det\n",
      "[170.67659357 -61.47598699  14.86427183  51.93512159] [[-0.42655281 -0.66133186  0.48298065  0.19519079]\n",
      " [-0.48270315 -0.31566973 -0.71607648 -0.19945882]\n",
      " [-0.60995234  0.51048884  0.4947022  -0.65055233]\n",
      " [-0.46152846  0.44988213  0.09609322  0.70632741]] <w,v\n",
      "[[ -72.80257979   40.65602906    7.1791557    10.13725732]\n",
      " [ -82.38612855   19.40610793  -10.64395538  -10.35891799]\n",
      " [-104.10458829  -31.38280556    7.35338794  -33.78651431]\n",
      " [ -78.77210474  -27.65694792    1.42835578   36.68319966]] <eig\n",
      "[[ -72.80257979   40.65602906    7.1791557    10.13725732]\n",
      " [ -82.38612855   19.40610793  -10.64395538  -10.35891799]\n",
      " [-104.10458829  -31.38280556    7.35338794  -33.78651431]\n",
      " [ -78.77210474  -27.65694792    1.42835578   36.68319966]] <eig\n",
      "(array([[-0.02267317, -0.47977838, -0.45944399, -0.74713443],\n",
      "       [-0.10202928, -0.8364688 ,  0.47916483,  0.24558307],\n",
      "       [-0.72554151, -0.09802011, -0.53903676,  0.4164384 ],\n",
      "       [-0.68019517,  0.24601772,  0.51841262, -0.45613394]]), array([[-88.20997676, -95.24999675, -52.80581824, -50.60652053],\n",
      "       [  0.        , -60.11188001, -66.04760961, -54.95966992],\n",
      "       [  0.        ,   0.        , -26.36776109,  14.8011637 ],\n",
      "       [  0.        ,   0.        ,   0.        , -57.9339306 ]])) <qr\n"
     ]
    }
   ],
   "source": [
    "import numpy as np\n",
    "a2d = np.random.randint(0,80,(4,4))\n",
    "a3d = np.random.randint(0,80,(4,4,4))\n",
    "\n",
    "print(a2d,'<asd')\n",
    "print(np.diag(a2d),'diag-2d')\n",
    "print(np.diag([1,2,3,4]),'diag-1d')\n",
    "print(a2d.dot(a2d.T),'<dot')\n",
    "print(np.trace(a2d),'<trace')\n",
    "print(np.linalg.det(a2d),'<det')\n",
    "[w,v] = np.linalg.eig(a2d)\n",
    "print(w,v,'<w,v')\n",
    "# print(a2d@np.array(v),'<eig')\n",
    "# print(w@np.array(v),'<eig')\n",
    "# [w,v] = np.linalg.eig(a2d)\n",
    "print(a2d@np.array(v),'<eig')\n",
    "print(w*np.array(v),'<eig')\n",
    "\n",
    "print(np.linalg.qr(a2d),'<qr')"
   ]
  },
  {
   "cell_type": "markdown",
   "metadata": {},
   "source": [
    "## 1.6 伪随机数生成\n",
    "生成概率分布样本\n"
   ]
  },
  {
   "cell_type": "code",
   "execution_count": 16,
   "metadata": {
    "scrolled": true
   },
   "outputs": [
    {
     "name": "stdout",
     "output_type": "stream",
     "text": [
      "[[ 0.96509692  0.0728497   0.08793073 -0.05306434]\n",
      " [-0.44505722 -1.21993719  1.00417461 -0.92994253]\n",
      " [-1.80044601 -0.55472335  0.56145182 -0.13382246]\n",
      " [ 0.45010222 -0.49218669 -0.86555481  0.04144126]] <random normal 4*4\n",
      "0.9650969249261218 <random befor seed\n",
      "[ 0.82418808  0.479966    1.17346801  0.90904807 -0.57172145 -0.10949727\n",
      "  0.01902826 -0.94376106  0.64057315 -0.78644317] <rnadn from random datae\n"
     ]
    }
   ],
   "source": [
    "import numpy as np\n",
    "\n",
    "# 4*4 正太样本\n",
    "print(np.random.normal(size=(4,4)),'<random normal 4*4')\n",
    "\n",
    "# 相比原生random的优势\n",
    "from random import normalvariate\n",
    "# N = 1000000\n",
    "N = 100000\n",
    "# %timeit sample = [normalvariate(0,1) for _ in range(N)]\n",
    "# %timeit np.random.normal(size=N)\n",
    "\n",
    "# seed\n",
    "np.random.seed(2333)\n",
    "print(np.random.randn(),'<random befor seed')\n",
    "\n",
    "# 创建随机数生成器 （基于某个seed的随机数生成环境)\n",
    "rng = np.random.RandomState(666)\n",
    "print(rng.randn(10),'<rnadn from random datae')"
   ]
  },
  {
   "cell_type": "markdown",
   "metadata": {},
   "source": [
    "表4-8： 部分numpy.random函数\n",
    "\n",
    "| 函数 | 说明 |\n",
    "| :--- | :--- |\n",
    "| seed | 随机数种子 |\n",
    "| permutation | 按列表或指定的范围打乱数据并返回新的数组 |\n",
    "| shuffle | 打乱当前数据 |\n",
    "| rand | 生成均匀分布样本 |\n",
    "| binomial | 生成二项分布样本(独立事件) |\n",
    "| normal | 正态分布 |\n",
    "| beta | beta分布 |\n",
    "| chisquare | 产生卡方分布(n次独立事件的结果) |\n",
    "| gamma | 产生gamma分布 |\n",
    "| uniform | 归一分布(0/1) |\n"
   ]
  },
  {
   "cell_type": "code",
   "execution_count": 31,
   "metadata": {},
   "outputs": [
    {
     "name": "stdout",
     "output_type": "stream",
     "text": [
      "[4 5 0 1 2 3]\n",
      "[222  77  33 999  88 444 566   0 345  23 111] <permutation\n",
      "[111, 222, 33, 444, 566, 77, 88, 999, 0, 345, 23] <numbers\n",
      "[566, 0, 111, 444, 77, 23, 88, 999, 345, 33, 222] <shuffle\n",
      "[[4 6 5 7 5 1 7 3 5 6]\n",
      " [6 8 8 7 4 6 4 7 7 7]\n",
      " [7 8 6 5 5 6 5 7 5 4]]\n",
      "[[12.7514886   0.66674761  1.39837198  7.87955495  3.01951324]\n",
      " [10.5126771   9.38312985  7.68071131  0.7639868   2.35683363]]\n"
     ]
    }
   ],
   "source": [
    "import numpy as np\n",
    "numbers=[111,222,33,444,566,77,88,999,0,345,23]\n",
    "\n",
    "print(np.random.permutation(6))\n",
    "print(np.random.permutation(numbers),'<permutation')\n",
    "print(numbers,'<numbers')\n",
    "\n",
    "np.random.shuffle(numbers)\n",
    "print(numbers,'<shuffle')\n",
    "print(np.random.binomial(10,0.6,size=(3,10)))\n",
    "print(np.random.uniform(0.6,13,size=(2,5)))"
   ]
  },
  {
   "cell_type": "markdown",
   "metadata": {},
   "source": [
    "## 示例：随机漫步"
   ]
  },
  {
   "cell_type": "code",
   "execution_count": 45,
   "metadata": {},
   "outputs": [
    {
     "name": "stdout",
     "output_type": "stream",
     "text": [
      "原生方法:\n",
      "numpy\n",
      "-15 27\n",
      "26\n"
     ]
    },
    {
     "data": {
      "text/plain": [
       "[<matplotlib.lines.Line2D at 0x1b58f460518>]"
      ]
     },
     "execution_count": 45,
     "metadata": {},
     "output_type": "execute_result"
    },
    {
     "data": {
      "image/png": "[encoded data removed]",
      "text/plain": [
       "<Figure size 432x288 with 1 Axes>"
      ]
     },
     "metadata": {
      "needs_background": "light"
     },
     "output_type": "display_data"
    }
   ],
   "source": [
    "import numpy as np\n",
    "import random\n",
    "import matplotlib.pyplot as plt\n",
    "%matplotlib inline\n",
    "\n",
    "# 原生方法\n",
    "print('原生方法:')\n",
    "position = 0\n",
    "walk = [position]\n",
    "steps = 1000\n",
    "for i in range(steps):\n",
    "    step = 1 if random.randint(0,1) else -1\n",
    "    position+=step\n",
    "    walk.append(position)\n",
    "\n",
    "plt.plot(walk[:100])\n",
    "\n",
    "# numpy\n",
    "print('numpy')\n",
    "draws = np.random.randint(0,2,size=steps)\n",
    "stepArr = np.where(draws > 0, 1, -1)\n",
    "walk = stepArr.cumsum()\n",
    "print(walk.min(),walk.max())\n",
    "# 第一个满足条件的数值\n",
    "print((np.abs(walk)>10).argmax())\n",
    "\n",
    "plt.plot(walk[:100])"
   ]
  },
  {
   "cell_type": "code",
   "execution_count": 17,
   "metadata": {},
   "outputs": [
    {
     "name": "stdout",
     "output_type": "stream",
     "text": [
      "[[-1  0  1 ... -2 -1 -2]\n",
      " [-1 -2 -1 ... 58 57 56]\n",
      " [ 1  2  1 ... -2 -1  0]\n",
      " ...\n",
      " [-1 -2 -1 ... -6 -5 -6]\n",
      " [-1  0 -1 ...  4  3  4]\n",
      " [-1  0  1 ... 42 43 42]]\n",
      "127 -127\n",
      "[False  True  True ... False False  True]\n",
      "3404\n",
      "507.45593419506463\n"
     ]
    },
    {
     "data": {
      "image/png": "[encoded data removed]",
      "text/plain": [
       "<Figure size 432x288 with 1 Axes>"
      ]
     },
     "metadata": {
      "needs_background": "light"
     },
     "output_type": "display_data"
    }
   ],
   "source": [
    "import numpy as np\n",
    "import matplotlib.pyplot as plt\n",
    "%matplotlib inline\n",
    "\n",
    "# 批量生成随机漫步数据\n",
    "nwalks = 5000\n",
    "nsteps = 1000\n",
    "draws = np.random.randint(0,2,size=(nwalks,nsteps))\n",
    "steps = np.where(draws>0, 1, -1)\n",
    "walks = steps.cumsum(1)\n",
    "\n",
    "print(walks)\n",
    "print(walks.max(),walks.min())\n",
    "# -30 到 30最小穿越时间\n",
    "hits30datas = (np.abs(walks)>=30)\n",
    "hits30 = hits30datas.any(1)\n",
    "print(hits30)\n",
    "print(hits30.sum())\n",
    "# 使用argmax()获取穿越时间\n",
    "crossing_time = hits30datas[hits30].argmax(1)\n",
    "print(crossing_time.mean())\n",
    "\n",
    "# plt.plot(walks[:30][:100]);# 加;分号不打印哈哈哈\n",
    "_ = plt.plot(walks[:30][:100])# 加数值接收不答应哈哈哈\n",
    "# print(_)\n",
    "\n",
    "# 使用其他随机分布生数据\n",
    "# steps = np.random.normal(loc=0, scale=0.25, size=(nwalks,nsteps))"
   ]
  }
 ],
 "metadata": {
  "kernelspec": {
   "display_name": "Python 3",
   "language": "python",
   "name": "python3"
  },
  "language_info": {
   "codemirror_mode": {
    "name": "ipython",
    "version": 3
   },
   "file_extension": ".py",
   "mimetype": "text/x-python",
   "name": "python",
   "nbconvert_exporter": "python",
   "pygments_lexer": "ipython3",
   "version": "3.6.7"
  }
 },
 "nbformat": 4,
 "nbformat_minor": 2
}
